{
 "cells": [
  {
   "cell_type": "markdown",
   "id": "6fdd0bcb",
   "metadata": {},
   "source": [
    "# Udaplay Project\n"
   ]
  },
  {
   "cell_type": "markdown",
   "id": "9325b035",
   "metadata": {},
   "source": [
    "## Part 01 - Offline RAG\n",
    "\n",
    "In this part of the project, you'll build your VectorDB using Chroma.\n",
    "\n",
    "The data is inside folder `project/starter/games`. Each file will become a document in the collection you'll create.\n",
    "Example.:\n",
    "```json\n",
    "{\n",
    "  \"Name\": \"Gran Turismo\",\n",
    "  \"Platform\": \"PlayStation 1\",\n",
    "  \"Genre\": \"Racing\",\n",
    "  \"Publisher\": \"Sony Computer Entertainment\",\n",
    "  \"Description\": \"A realistic racing simulator featuring a wide array of cars and tracks, setting a new standard for the genre.\",\n",
    "  \"YearOfRelease\": 1997\n",
    "}\n",
    "```\n"
   ]
  },
  {
   "cell_type": "markdown",
   "id": "2b42de90",
   "metadata": {},
   "source": [
    "### Setup"
   ]
  },
  {
   "cell_type": "code",
   "execution_count": 1,
   "id": "a8d56169",
   "metadata": {},
   "outputs": [],
   "source": [
    "import os\n",
    "import json\n",
    "import chromadb\n",
    "from chromadb.utils import embedding_functions\n",
    "from dotenv import load_dotenv"
   ]
  },
  {
   "cell_type": "code",
   "execution_count": 2,
   "id": "87e465d4",
   "metadata": {},
   "outputs": [
    {
     "data": {
      "text/plain": [
       "True"
      ]
     },
     "execution_count": 2,
     "metadata": {},
     "output_type": "execute_result"
    }
   ],
   "source": [
    "load_dotenv()"
   ]
  },
  {
   "cell_type": "code",
   "execution_count": 3,
   "id": "fd10c06e",
   "metadata": {},
   "outputs": [],
   "source": [
    "# To successfully run part 1 of the project, create a .env file with the following variables\n",
    "CHROMA_OPENAI_API_KEY=os.getenv(\"CHROMA_OPENAI_API_KEY\")"
   ]
  },
  {
   "cell_type": "markdown",
   "id": "d1230b3f",
   "metadata": {},
   "source": [
    "Setting up ChromaDB paths and names. Should be consistent with what you used in the `Udaplay_02.ipynb` file."
   ]
  },
  {
   "cell_type": "code",
   "execution_count": 4,
   "id": "d93f16ef",
   "metadata": {},
   "outputs": [],
   "source": [
    "CHROMADB_PATH = \"chromadb\"\n",
    "CHROMADB_COLLECTION_NAME = \"udaplay\""
   ]
  },
  {
   "cell_type": "markdown",
   "id": "27de4729",
   "metadata": {},
   "source": [
    "### Creating a VectorDB Instance ..."
   ]
  },
  {
   "cell_type": "code",
   "execution_count": 5,
   "id": "b25c36dd",
   "metadata": {},
   "outputs": [],
   "source": [
    "chroma_client = chromadb.PersistentClient(path=CHROMADB_PATH)"
   ]
  },
  {
   "cell_type": "markdown",
   "id": "df844b3b",
   "metadata": {},
   "source": [
    "### ... and a Collection within this instance"
   ]
  },
  {
   "cell_type": "code",
   "execution_count": 6,
   "id": "31c56281",
   "metadata": {},
   "outputs": [],
   "source": [
    "# Make sure you use the same function for encoding and decoding\n",
    "\n",
    "EMBEDDING_MODEL_NAME = \"text-embedding-ada-002\"\n",
    "# EMBEDDING_MODEL_NAME = \"text-embedding-3-small\"\n",
    "\n",
    "embeddings_fn = embedding_functions.OpenAIEmbeddingFunction(\n",
    "    api_key=CHROMA_OPENAI_API_KEY,\n",
    "    model_name=EMBEDDING_MODEL_NAME  \n",
    ")"
   ]
  },
  {
   "cell_type": "code",
   "execution_count": 7,
   "id": "0ec23893",
   "metadata": {},
   "outputs": [],
   "source": [
    "# If you want to start with a fresh collection, uncomment the following lines\n",
    "chroma_client.delete_collection(name=CHROMADB_COLLECTION_NAME)\n",
    "collection = chroma_client.create_collection(\n",
    "   name=CHROMADB_COLLECTION_NAME,\n",
    "   embedding_function=embeddings_fn\n",
    ")"
   ]
  },
  {
   "cell_type": "markdown",
   "id": "f0a55081",
   "metadata": {},
   "source": [
    "### Add documents"
   ]
  },
  {
   "cell_type": "code",
   "execution_count": 8,
   "id": "eb83fbb1",
   "metadata": {},
   "outputs": [],
   "source": [
    "# Make sure you have a directory \"/games\"\n",
    "data_dir = \"games\"\n",
    "\n",
    "for file_name in sorted(os.listdir(data_dir)):\n",
    "    if not file_name.endswith(\".json\"):\n",
    "        continue\n",
    "\n",
    "    file_path = os.path.join(data_dir, file_name)\n",
    "    with open(file_path, \"r\", encoding=\"utf-8\") as f:\n",
    "        game = json.load(f)\n",
    "\n",
    "    # You can change what text you want to index\n",
    "    content = f\"[{game['Platform']}] {game['Name']} ({game['YearOfRelease']}, {game['Publisher']}) - {game['Description']}\"\n",
    "\n",
    "    # Use file name (like 001) as ID\n",
    "    doc_id = os.path.splitext(file_name)[0]\n",
    "\n",
    "    collection.add(\n",
    "        ids=[doc_id],\n",
    "        documents=[content],\n",
    "        metadatas=[game]\n",
    "    )"
   ]
  },
  {
   "cell_type": "markdown",
   "id": "057bd3eb",
   "metadata": {},
   "source": [
    "### Show document retrieval"
   ]
  },
  {
   "cell_type": "markdown",
   "id": "a445138e",
   "metadata": {},
   "source": [
    "This query shows that it is possible to query the database, even though for the particular query there is no useful data in the database. "
   ]
  },
  {
   "cell_type": "code",
   "execution_count": 9,
   "id": "c94e1aa2",
   "metadata": {},
   "outputs": [
    {
     "name": "stdout",
     "output_type": "stream",
     "text": [
      "[\"[Nintendo 64] Super Mario 64 (1996, Nintendo) - A groundbreaking 3D platformer that set new standards for the genre, featuring Mario's quest to rescue Princess Peach.\", '[Nintendo Switch] Mario Kart 8 Deluxe (2017, Nintendo) - An enhanced version of Mario Kart 8, featuring new characters, tracks, and improved gameplay mechanics.', '[Super Nintendo Entertainment System (SNES)] Super Mario World (1990, Nintendo) - A classic platformer where Mario embarks on a quest to save Princess Toadstool and Dinosaur Land from Bowser.', \"[Wii] Wii Sports (2006, Nintendo) - A collection of sports games that utilize the Wii's motion controls, bundled with the console to showcase its capabilities.\", '[Game Boy Color] Pokémon Gold and Silver (1999, Nintendo) - Second-generation Pokémon games introducing new regions, Pokémon, and gameplay mechanics.']\n"
     ]
    }
   ],
   "source": [
    "query = \"When was Zelda: Breath of the Wild released?\"\n",
    "results = collection.query(\n",
    "    query_texts=[query], \n",
    "    n_results=5\n",
    "    )\n",
    "    \n",
    "print(results[\"documents\"][0])"
   ]
  },
  {
   "cell_type": "code",
   "execution_count": null,
   "id": "79b8ebaf",
   "metadata": {},
   "outputs": [],
   "source": []
  }
 ],
 "metadata": {
  "kernelspec": {
   "display_name": ".venv",
   "language": "python",
   "name": "python3"
  },
  "language_info": {
   "codemirror_mode": {
    "name": "ipython",
    "version": 3
   },
   "file_extension": ".py",
   "mimetype": "text/x-python",
   "name": "python",
   "nbconvert_exporter": "python",
   "pygments_lexer": "ipython3",
   "version": "3.11.9"
  }
 },
 "nbformat": 4,
 "nbformat_minor": 5
}
