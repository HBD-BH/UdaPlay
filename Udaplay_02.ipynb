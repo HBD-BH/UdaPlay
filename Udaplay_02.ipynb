{
 "cells": [
  {
   "cell_type": "markdown",
   "id": "6fdd0bcb",
   "metadata": {},
   "source": [
    "# Udaplay Project"
   ]
  },
  {
   "cell_type": "markdown",
   "id": "9325b035",
   "metadata": {},
   "source": [
    "## Part 02 - Agent\n",
    "\n",
    "In this part of the project, you'll use your VectorDB to be part of your Agent as a tool.\n",
    "\n",
    "You're building UdaPlay, an AI Research Agent for the video game industry. The agent will:\n",
    "1. Answer questions using internal knowledge (RAG)\n",
    "2. Search the web when needed\n",
    "3. Maintain conversation state\n",
    "4. Return structured outputs\n",
    "5. Store useful information for future use"
   ]
  },
  {
   "cell_type": "markdown",
   "id": "2b42de90",
   "metadata": {},
   "source": [
    "### Setup and Imports"
   ]
  },
  {
   "cell_type": "code",
   "execution_count": null,
   "id": "a963d4ca",
   "metadata": {},
   "outputs": [],
   "source": [
    "# Only needed for Udacity workspace\n",
    "\n",
    "import importlib.util\n",
    "import sys\n",
    "\n",
    "# Check if 'pysqlite3' is available before importing\n",
    "if importlib.util.find_spec(\"pysqlite3\") is not None:\n",
    "    import pysqlite3\n",
    "    sys.modules['sqlite3'] = sys.modules.pop('pysqlite3')"
   ]
  },
  {
   "cell_type": "code",
   "execution_count": 36,
   "id": "fd10c06e",
   "metadata": {},
   "outputs": [],
   "source": [
    "# For example: \n",
    "import os\n",
    "from dotenv import load_dotenv                  # For loading environment variables from .env file\n",
    "from datetime import datetime                   # For websearch metadata assignment\n",
    "\n",
    "from typing import List, Dict, Any, Annotated\n",
    "from pydantic import BaseModel, Field\n",
    "\n",
    "from lib.agents import Agent                    # For Agent class\n",
    "from lib.llm import LLM                         # For Large Language Model\n",
    "from lib.messages import UserMessage, SystemMessage, ToolMessage, AIMessage\n",
    "from lib.tooling import tool                    # For defining tools    \n",
    "from lib.parsers import PydanticOutputParser    # To return structured output from LLM\n",
    "\n",
    "from chromadb import PersistentClient           # For Vector Database\n",
    "# import chromadb\n",
    "\n",
    "from tavily import TavilyClient                 # For Web Search\n"
   ]
  },
  {
   "cell_type": "code",
   "execution_count": 26,
   "id": "87e465d4",
   "metadata": {},
   "outputs": [],
   "source": [
    "# Load environment variables\n",
    "load_dotenv()\n",
    "\n",
    "OPENAI_API_KEY = os.getenv(\"OPENAI_API_KEY\")\n",
    "TAVILY_API_KEY = os.getenv(\"TAVILY_API_KEY\")\n",
    "VOCAREUM_OPENAI_API_KEY=os.getenv(\"VOCAREUM_OPENAI_API_KEY\")\n",
    "VOCAREUM_BASE_URL=os.getenv(\"VOCAREUM_BASE_URL\")"
   ]
  },
  {
   "cell_type": "markdown",
   "id": "b0955006",
   "metadata": {},
   "source": [
    "Setting up ChromaDB paths and names. Should be consistent with what you used in the `Udaplay_01.ipynb` file."
   ]
  },
  {
   "cell_type": "code",
   "execution_count": 9,
   "id": "1614303d",
   "metadata": {},
   "outputs": [],
   "source": [
    "CHROMADB_PATH = \"chromadb\"\n",
    "CHROMADB_COLLECTION_NAME = \"udaplay\""
   ]
  },
  {
   "cell_type": "code",
   "execution_count": null,
   "id": "ce364221",
   "metadata": {},
   "outputs": [],
   "source": []
  },
  {
   "cell_type": "markdown",
   "id": "27de4729",
   "metadata": {},
   "source": [
    "### Tools"
   ]
  },
  {
   "cell_type": "markdown",
   "id": "46ab2dac",
   "metadata": {},
   "source": [
    "Build at least 3 tools:\n",
    "- retrieve_game: To search the vector DB\n",
    "- evaluate_retrieval: To assess the retrieval performance\n",
    "- game_web_search: If no good, search the web\n"
   ]
  },
  {
   "cell_type": "markdown",
   "id": "ce4f14cd",
   "metadata": {},
   "source": [
    "#### Retrieve Game Tool"
   ]
  },
  {
   "cell_type": "code",
   "execution_count": null,
   "id": "b25c36dd",
   "metadata": {},
   "outputs": [],
   "source": [
    "def retrieve_game(query: str, n_results: int=4) -> List:\n",
    "    \"\"\"\n",
    "#    Semantic search: Finds most relevant results in the vector DB\n",
    "#    args:\n",
    "#    - query: a question about game industry. \n",
    "#    - n_results: number of results to return (default is 4)\n",
    "#\n",
    "#    You'll receive results as list. Each element contains:\n",
    "#    - Platform: like Game Boy, Playstation 5, Xbox 360...)\n",
    "#    - Name: Name of the Game\n",
    "#    - YearOfRelease: Year when that game was released for that platform\n",
    "#    - Description: Additional details about the game\n",
    "    \"\"\"\n",
    "\n",
    "    # collection.query(\n",
    "        # query_texts=[query],\n",
    "        # n_results=n_results,\n",
    "        # include=['metadatas', 'documents', 'distances'] # TODO: look at collection.peek() to understand this better.\n",
    "    # )\n",
    "\n",
    "    # These have been created in Phase 1\n",
    "    chroma_client = PersistentClient(path=CHROMADB_PATH)\n",
    "    collection = chroma_client.get_collection(CHROMADB_COLLECTION_NAME)\n",
    "\n",
    "    results = collection.query(\n",
    "        query_texts=[query], \n",
    "        n_results=5\n",
    "        )\n",
    "    \n",
    "    return results[\"documents\"][0]"
   ]
  },
  {
   "cell_type": "code",
   "execution_count": 28,
   "id": "2cf8a174",
   "metadata": {},
   "outputs": [],
   "source": [
    "# To test the function\n",
    "query = \"Tell me about Gran Turismo\"\n",
    "# response = retrieve_game(query)\n",
    "# print(response)"
   ]
  },
  {
   "cell_type": "markdown",
   "id": "910dc945",
   "metadata": {},
   "source": [
    "#### Evaluate Retrieval Tool"
   ]
  },
  {
   "cell_type": "code",
   "execution_count": 33,
   "id": "0d9d014b",
   "metadata": {},
   "outputs": [],
   "source": [
    "class EvaluationReport(BaseModel):\n",
    "    useful: bool = Field(..., description=\"Indicates if the retrieved documents are useful for answering the question\")\n",
    "    description: str = Field(..., description=\"Detailed explanation of the evaluation result, including why the documents are or are not useful\")\n",
    "\n",
    "\n",
    "def evaluate_retrieval(question: str, retrieved_docs: list) -> EvaluationReport:\n",
    "    \"\"\"\n",
    "    Based on the user's question and on the list of retrieved documents, this function \n",
    "    will analyze the usability of the documents to respond to that question. \n",
    "    args: \n",
    "    - question: original question from user\n",
    "    - retrieved_docs: retrieved documents most similar to the user query in the Vector Database\n",
    "    Outputs:\n",
    "    EvaluationReport:\n",
    "    - useful: whether the documents are useful to answer the question\n",
    "    - description: description about the evaluation result\n",
    "    \"\"\"\n",
    "\n",
    "    system_prompt = \"\"\"\n",
    "        You are an expert in evaluating the usability of documents for answering user queries.\n",
    "        Your task is to evaluate if the provided sources are enough to respond the user query.\n",
    "        Give a detailed explanation, so it's possible to take an action to accept it or not.\n",
    "    \"\"\"\n",
    "\n",
    "    user_prompt = f\"\"\"\n",
    "        User query:\\n{question}\\n\n",
    "        Retrieved documents:\\n{retrieved_docs}\n",
    "    \"\"\"\n",
    "\n",
    "    messages = [\n",
    "        SystemMessage(content=system_prompt),\n",
    "        UserMessage(content=user_prompt)\n",
    "    ]\n",
    "\n",
    "    llm_judge = LLM(\n",
    "        model=\"gpt-4.1-nano\",\n",
    "        temperature=0.0,\n",
    "        api_key=VOCAREUM_OPENAI_API_KEY,\n",
    "        base_url=VOCAREUM_BASE_URL\n",
    "    )\n",
    "\n",
    "    ai_message = llm_judge.invoke(input=messages, response_format=EvaluationReport)\n",
    "    parser = PydanticOutputParser(model_class=EvaluationReport)\n",
    "    return parser.parse(ai_message)\n"
   ]
  },
  {
   "cell_type": "code",
   "execution_count": 47,
   "id": "c5b5d7f3",
   "metadata": {},
   "outputs": [
    {
     "name": "stdout",
     "output_type": "stream",
     "text": [
      "{\n",
      "  \"useful\": true,\n",
      "  \"description\": \"The retrieved documents include detailed information about the Gran Turismo series, specifically mentioning the original game and its sequel, Gran Turismo 5. They describe the games as realistic racing simulators with a wide selection of vehicles and tracks, and highlight their significance in the racing genre. Although some documents mention other racing games, the core information about Gran Turismo is present, making these sources sufficient to answer the user query about the series.\"\n",
      "}\n"
     ]
    }
   ],
   "source": [
    "# To test the function\n",
    "response_valid = evaluate_retrieval(query, response)\n",
    "print(response_valid.model_dump_json(indent=2))"
   ]
  },
  {
   "cell_type": "markdown",
   "id": "c7935a26",
   "metadata": {},
   "source": [
    "#### Game Web Search Tool"
   ]
  },
  {
   "cell_type": "code",
   "execution_count": null,
   "id": "2ad698aa",
   "metadata": {},
   "outputs": [],
   "source": [
    "class MetaData(BaseModel):\n",
    "    timestamp: str = Field(..., description=\"The time the web search was performed, in ISO format (YYYY-MM-DD HH:MM:SS.mmmmmm)\")\n",
    "    query: str = Field(..., description=\"The original search query\")\n",
    "\n",
    "class WebSearchResult(BaseModel):\n",
    "    answer: str = Field(..., description=\"Answer to the search query\")\n",
    "    results: List[Dict] = Field(..., description=\"List of search results\")\n",
    "    search_metadata: MetaData  = Field(..., description=\"Metadata of the web search\")\n",
    "\n",
    "# Modified from Course module 06 solution notebook (Web Search with Tavily)\n",
    "def game_web_search(query: str, search_depth: str = \"advanced\") -> Dict:\n",
    "    \"\"\"\n",
    "    Search the web using Tavily API.\n",
    "    args:\n",
    "        query (str): Search query\n",
    "        search_depth (str): Type of search - 'basic' or 'advanced' (default: advanced)\n",
    "    Output: \n",
    "    WebSearchResult:\n",
    "    - answer (str): Direct answer to the query, if available\n",
    "    - results (List[Dict]): List of search results, each containing:\n",
    "    - search_metadata (Dict): Metadata about the search, including timestamp and query\n",
    "    \"\"\"\n",
    "    client = TavilyClient(api_key=TAVILY_API_KEY)\n",
    "    \n",
    "    # Perform the search\n",
    "    search_result = client.search(\n",
    "        query=query,\n",
    "        search_depth=search_depth,\n",
    "        include_answer=True,\n",
    "        include_raw_content=False,\n",
    "        include_images=False\n",
    "    )\n",
    "    \n",
    "    # Format the results\n",
    "    formatted_results = {\n",
    "        \"answer\": search_result.get(\"answer\", \"\"),\n",
    "        \"results\": search_result.get(\"results\", []),\n",
    "        \"search_metadata\": {\n",
    "            \"timestamp\": datetime.now().isoformat(),\n",
    "            \"query\": query\n",
    "        }\n",
    "    }\n",
    "    # metadata_parser = PydanticOutputParser(model_class=WebSearchResult)\n",
    "    # validated_results = metadata_parser.parse(ai_message=AIMessage(content=str(formatted_results)))\n",
    "    validated_results = WebSearchResult(**formatted_results)\n",
    "\n",
    "    return validated_results"
   ]
  },
  {
   "cell_type": "code",
   "execution_count": 48,
   "id": "a80af3a8",
   "metadata": {},
   "outputs": [
    {
     "name": "stdout",
     "output_type": "stream",
     "text": [
      "{\n",
      "  \"answer\": \"Gran Turismo is a racing simulation video game series developed by Polyphony Digital and published by Sony. It is known for its realistic driving physics and detailed vehicle models. The series has launched eight mainline titles and sold over 90 million units worldwide.\",\n",
      "  \"results\": [\n",
      "    {\n",
      "      \"url\": \"https://playstation-studios.fandom.com/wiki/Gran_Turismo_(series)\",\n",
      "      \"title\": \"Gran Turismo (series) | PlayStation Studios Wiki - Fandom\",\n",
      "      \"content\": \"Gran Turismo, also known as GT, is a series of racing simulation video games created and developed by Polyphony Digital, and published by Sony Interactive Entertainment for the PlayStation brand of consoles. Originally released for the very first PlayStation \\\"PlayStation (console)\\\"), Gran Turismo is among Sony's oldest franchises and its longest-running franchise, having launched in 1997. [...] The Gran Turismo series received significant praise since its inception, and has been credited with establishing Polyphony Digital as its own entity, as well as being considered a pioneer in the racing genre; games in the series are generally acclaimed for their visuals, attention to detail, controls and content. The first four titles in the series received critical acclaim, while later mainline installment received more divisive reception due to changes and alterations from earlier titles. [...] Gran Turismo was created by Polyphony Digital head and founder, Kazunori Yamauchi, who has produced all games in the series. To date the main series of Gran Turismo includes eight mainline titles, of which seven are numbered. Spin-offs include a variety of Concept and Prologue titles that serve as early introductions to full-fledged main games, as well as a title for PlayStation Portable. The series also includes an upcoming feature-length film \\\"Gran Turismo (film)\\\").\",\n",
      "      \"score\": 0.82254606,\n",
      "      \"raw_content\": null\n",
      "    },\n",
      "    {\n",
      "      \"url\": \"https://en.wikipedia.org/wiki/Gran_Turismo_(series)\",\n",
      "      \"title\": \"Gran Turismo (series) - Wikipedia\",\n",
      "      \"content\": \"Gran Turismo (GT) is a series of sim racing video games developed by Polyphony Digital. Released for PlayStation systems, Gran Turismo games are intended to emulate the appearance and performance of a large selection of vehicles, most of which are licensed reproductions of real-world automobiles. Since the franchise's debut in 1997, over 90 million units have been sold worldwide, making it the highest selling video game franchise under the PlayStation brand. [...] Gran Turismo is one of PlayStation's most successful franchises, having garnered both commercial success and critical acclaim. The first title \\\"Gran Turismo (1997 video game)\\\") in the series was the highest selling game for the original PlayStation, while four subsequent installments have been among the top-three best-selling games for their respective consoles. Multiple entries in the series have been ranked among the greatest video games of all time. In 2023, the series received a film [...] The Gran Turismo series is known for its accurate driving physics emulation, a large number of licensed vehicles, attention to vehicle detail, the ability to tune a car's performance, and realistic graphics. Its physics emulation includes \\\"real-world dynamics such as weight transfer, suspension response, and understeer/oversteer characteristics\\\". The Sim has been a flagship for the PlayStation console's graphics capabilities, and is often used to demonstrate the system's potential. It has a\",\n",
      "      \"score\": 0.8131201,\n",
      "      \"raw_content\": null\n",
      "    },\n",
      "    {\n",
      "      \"url\": \"https://www.playstation.com/en-us/gran-turismo/\",\n",
      "      \"title\": \"Discover Gran Turismo | PlayStation (US)\",\n",
      "      \"content\": \"Gran Turismo was created from the inspiration of the rich culture of automobiles that had grown throughout the 20th century.\\n\\n### Gran Turismo and car culture\\n\\nGran Turismo was designed to awaken people to the allure of cars. Even without any prior knowledge about cars, players would find appreciation and joy in controlling, owning, designing and tuning them.\\n\\n### Technological innovation [...] The Vision Gran Turismo project started with a single question from Gran Turismo founder Kazunori Yamauchi: “Would you design your rendition of the ideal GT for us?” GT stands for Gran Turismo or Grand Tourer (where the game got its name from) which describes a sporty performance car. Many manufacturers accepted our offer, and now there are many “ideal” Grand Touring cars represented in the game. [...] gran turismo background\\ngran turismo icon logo\\n\\n# Discover Gran Turismo\\n\\nCelebrating the 25th anniversary of The Real Driving Simulator.\\n\\nA screenshot of Gran Turismo 7 from inside the car driving along a corner with competing cars ahead of the player\\nKazunori Yamauchi - President of Polyphony Digital\\n\\n#### \\\"Gran Turismo is an integrated simulator for enjoying life with cars. It's a sandbox where players can freely discover experiences on their own.\",\n",
      "      \"score\": 0.6141863,\n",
      "      \"raw_content\": null\n",
      "    },\n",
      "    {\n",
      "      \"url\": \"https://en.wikipedia.org/wiki/Gran_Turismo_(video_game)\",\n",
      "      \"title\": \"Gran Turismo - Wikipedia\",\n",
      "      \"content\": \"Wikipedia\\nThe Free Encyclopedia\\n\\n## Contents\\n\\n# Gran Turismo\\n\\nGran Turismo may refer to:\\n\\n## Cars\\n\\n## Video games\\n\\n## Film\\n\\n## Music\\n\\n## See also\\n\\nDisambiguation icon\\n\\nWikimedia Foundation\\nPowered by MediaWiki\",\n",
      "      \"score\": 0.5440511,\n",
      "      \"raw_content\": null\n",
      "    },\n",
      "    {\n",
      "      \"url\": \"https://www.giantbomb.com/gran-turismo/3025-263/games/\",\n",
      "      \"title\": \"Games - Gran Turismo - Giant Bomb\",\n",
      "      \"content\": \"Featuring Korean Hyundai cars for the first time.\\n\\n### Gran Turismo Concept: 2001 Tokyo\\n\\n### Gran Turismo 3 A-Spec\\n\\nGran Turismo 3: A-Spec is a driving simulator released for the Playstation 2 which garnered critical acclaim upon its release in 2001.\\n\\n### Gran Turismo 2\\n\\nGran Turismo 2 is a realistic driving simulator for the PlayStation featuring over 600 vehicles.\\n\\n### Gran Turismo\\n\\nPolyphony Digital's seminal racing simulator for the PlayStation.\\n\\n#### Top Rated Lists for Gran Turismo [...] ## Games\\n\\n### Gran Turismo 7\\n\\nThe seventh main entry in Polyphony Digital's driving simulator franchise.\\n\\n### Gran Turismo Sport\\n\\nPolyphony Digital's driving simulator comes to PlayStation 4 with a strong focus on competitive online multiplayer.\\n\\n### Gran Turismo 6\\n\\nThe sixth entry in PlayStation's flagship racing series, Gran Turismo 6 hopes to bring a better, richer driving experience, including 1200 cars and new features like improved car personalization.\\n\\n### Gran Turismo 5 [...] Gran Turismo 5 is the fifth edition in the long running racing game series by Polyphony Digital. The game sports over 1000 vehicles, damage modeling on race cars, a dedicated television channel, lots of races, 16 player online multiplayer, and active weather.\\n\\n### Gran Turismo\\n\\nThis is the first entry in the Gran Turismo racing series to be released on a handheld system.\\n\\n### Gran Turismo 5 Prologue Spec III\",\n",
      "      \"score\": 0.4800161,\n",
      "      \"raw_content\": null\n",
      "    }\n",
      "  ],\n",
      "  \"search_metadata\": {\n",
      "    \"timestamp\": \"2025-07-30T06:21:50.906833\",\n",
      "    \"query\": \"Tell me about Gran Turismo\"\n",
      "  }\n",
      "}\n"
     ]
    }
   ],
   "source": [
    "# To test the function\n",
    "web_search_response = game_web_search(query)\n",
    "print(web_search_response.model_dump_json(indent=2))"
   ]
  },
  {
   "cell_type": "markdown",
   "id": "df844b3b",
   "metadata": {},
   "source": [
    "### Agent"
   ]
  },
  {
   "cell_type": "code",
   "execution_count": null,
   "id": "31c56281",
   "metadata": {},
   "outputs": [],
   "source": [
    "# TODO: Create your Agent abstraction using StateMachine\n",
    "# Equip with an appropriate model\n",
    "# Craft a good set of instructions \n",
    "# Plug all Tools you developed"
   ]
  },
  {
   "cell_type": "code",
   "execution_count": null,
   "id": "0ec23893",
   "metadata": {},
   "outputs": [],
   "source": [
    "# TODO: Invoke your agent\n",
    "# - When Pokémon Gold and Silver was released?\n",
    "# - Which one was the first 3D platformer Mario game?\n",
    "# - Was Mortal Kombat X realeased for Playstation 5?"
   ]
  },
  {
   "cell_type": "markdown",
   "id": "f0a55081",
   "metadata": {},
   "source": [
    "### (Optional) Advanced"
   ]
  },
  {
   "cell_type": "code",
   "execution_count": null,
   "id": "eb83fbb1",
   "metadata": {},
   "outputs": [],
   "source": [
    "# TODO: Update your agent with long-term memory\n",
    "# TODO: Convert the agent to be a state machine, with the tools being pre-defined nodes"
   ]
  }
 ],
 "metadata": {
  "kernelspec": {
   "display_name": ".venv",
   "language": "python",
   "name": "python3"
  },
  "language_info": {
   "codemirror_mode": {
    "name": "ipython",
    "version": 3
   },
   "file_extension": ".py",
   "mimetype": "text/x-python",
   "name": "python",
   "nbconvert_exporter": "python",
   "pygments_lexer": "ipython3",
   "version": "3.11.9"
  }
 },
 "nbformat": 4,
 "nbformat_minor": 5
}
