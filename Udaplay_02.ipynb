{
 "cells": [
  {
   "cell_type": "markdown",
   "id": "6fdd0bcb",
   "metadata": {},
   "source": [
    "# Udaplay Project"
   ]
  },
  {
   "cell_type": "markdown",
   "id": "9325b035",
   "metadata": {},
   "source": [
    "## Part 02 - Agent\n",
    "\n",
    "In this part of the project, you'll use your VectorDB to be part of your Agent as a tool.\n",
    "\n",
    "You're building UdaPlay, an AI Research Agent for the video game industry. The agent will:\n",
    "1. Answer questions using internal knowledge (RAG)\n",
    "2. Search the web when needed\n",
    "3. Maintain conversation state\n",
    "4. Return structured outputs\n",
    "5. Store useful information for future use"
   ]
  },
  {
   "cell_type": "markdown",
   "id": "2b42de90",
   "metadata": {},
   "source": [
    "### Setup and Imports"
   ]
  },
  {
   "cell_type": "code",
   "execution_count": 1,
   "id": "fd10c06e",
   "metadata": {},
   "outputs": [],
   "source": [
    "# For example: \n",
    "import os\n",
    "from dotenv import load_dotenv                  # For loading environment variables from .env file\n",
    "from datetime import datetime                   # For websearch metadata assignment\n",
    "\n",
    "from typing import List, Dict, Any, Annotated\n",
    "from pydantic import BaseModel, Field\n",
    "\n",
    "from lib.agents import Agent                    # For Agent class\n",
    "from lib.llm import LLM                         # For Large Language Model\n",
    "from lib.messages import UserMessage, SystemMessage, BaseMessage\n",
    "from lib.tooling import tool                    # For defining tools    \n",
    "from lib.parsers import PydanticOutputParser    # To return structured output from LLM\n",
    "\n",
    "from chromadb import PersistentClient           # For Vector Database\n",
    "# import chromadb\n",
    "\n",
    "from tavily import TavilyClient                 # For Web Search\n"
   ]
  },
  {
   "cell_type": "code",
   "execution_count": 2,
   "id": "87e465d4",
   "metadata": {},
   "outputs": [],
   "source": [
    "# Load environment variables\n",
    "load_dotenv()\n",
    "\n",
    "OPENAI_API_KEY = os.getenv(\"OPENAI_API_KEY\")\n",
    "OPENAI_BASE_URL = os.getenv(\"OPENAI_BASE_URL\")\n",
    "TAVILY_API_KEY = os.getenv(\"TAVILY_API_KEY\")\n",
    "VOCAREUM_OPENAI_API_KEY=os.getenv(\"VOCAREUM_OPENAI_API_KEY\")\n",
    "VOCAREUM_BASE_URL=os.getenv(\"VOCAREUM_BASE_URL\")"
   ]
  },
  {
   "cell_type": "markdown",
   "id": "b0955006",
   "metadata": {},
   "source": [
    "Setting up ChromaDB paths and names. Should be consistent with what you used in the `Udaplay_01.ipynb` file."
   ]
  },
  {
   "cell_type": "code",
   "execution_count": 3,
   "id": "1614303d",
   "metadata": {},
   "outputs": [],
   "source": [
    "CHROMADB_PATH = \"chromadb\"\n",
    "CHROMADB_COLLECTION_NAME = \"udaplay\""
   ]
  },
  {
   "cell_type": "code",
   "execution_count": null,
   "id": "ce364221",
   "metadata": {},
   "outputs": [],
   "source": []
  },
  {
   "cell_type": "markdown",
   "id": "27de4729",
   "metadata": {},
   "source": [
    "### Tools"
   ]
  },
  {
   "cell_type": "markdown",
   "id": "46ab2dac",
   "metadata": {},
   "source": [
    "Build at least 3 tools:\n",
    "- retrieve_game: To search the vector DB\n",
    "- evaluate_retrieval: To assess the retrieval performance\n",
    "- game_web_search: If no good, search the web\n"
   ]
  },
  {
   "cell_type": "markdown",
   "id": "ce4f14cd",
   "metadata": {},
   "source": [
    "#### Retrieve Game Tool"
   ]
  },
  {
   "cell_type": "code",
   "execution_count": 4,
   "id": "b25c36dd",
   "metadata": {},
   "outputs": [],
   "source": [
    "@tool\n",
    "def retrieve_game(query: str, n_results: int=4) -> List:\n",
    "    \"\"\"\n",
    "#    Semantic search: Finds most relevant results in the vector DB\n",
    "#    args:\n",
    "#    - query: a question about game industry. \n",
    "#    - n_results: number of results to return (default is 4)\n",
    "#\n",
    "#    You'll receive results as list. Each element contains:\n",
    "#    - Platform: like Game Boy, Playstation 5, Xbox 360...)\n",
    "#    - Name: Name of the Game\n",
    "#    - YearOfRelease: Year when that game was released for that platform\n",
    "#    - Description: Additional details about the game\n",
    "    \"\"\"\n",
    "\n",
    "    # collection.query(\n",
    "        # query_texts=[query],\n",
    "        # n_results=n_results,\n",
    "        # include=['metadatas', 'documents', 'distances'] # TODO: look at collection.peek() to understand this better.\n",
    "    # )\n",
    "\n",
    "    # These have been created in Phase 1\n",
    "    chroma_client = PersistentClient(path=CHROMADB_PATH)\n",
    "    collection = chroma_client.get_collection(CHROMADB_COLLECTION_NAME)\n",
    "\n",
    "    results = collection.query(\n",
    "        query_texts=[query], \n",
    "        n_results=5\n",
    "        )\n",
    "    \n",
    "    return results[\"documents\"][0]"
   ]
  },
  {
   "cell_type": "code",
   "execution_count": 5,
   "id": "2cf8a174",
   "metadata": {},
   "outputs": [
    {
     "name": "stdout",
     "output_type": "stream",
     "text": [
      "['[PlayStation 3] Gran Turismo 5 (2010, Sony Computer Entertainment) - A comprehensive racing simulator featuring a vast selection of vehicles and tracks, with realistic driving physics.', '[PlayStation 1] Gran Turismo (1997, Sony Computer Entertainment) - A realistic racing simulator featuring a wide array of cars and tracks, setting a new standard for the genre.', \"[PlayStation 2] Grand Theft Auto: San Andreas (2004, Rockstar Games) - An expansive open-world game set in the fictional state of San Andreas, following the story of Carl 'CJ' Johnson.\", '[Nintendo Switch] Mario Kart 8 Deluxe (2017, Nintendo) - An enhanced version of Mario Kart 8, featuring new characters, tracks, and improved gameplay mechanics.', \"[PlayStation 4] Marvel's Spider-Man (2018, Sony Interactive Entertainment) - An open-world superhero game that lets players swing through New York City as Spider-Man, battling iconic villains.\"]\n"
     ]
    }
   ],
   "source": [
    "# To test the function\n",
    "query = \"Tell me about Gran Turismo\"\n",
    "response = retrieve_game(query)\n",
    "print(response)"
   ]
  },
  {
   "cell_type": "markdown",
   "id": "910dc945",
   "metadata": {},
   "source": [
    "#### Evaluate Retrieval Tool"
   ]
  },
  {
   "cell_type": "code",
   "execution_count": 6,
   "id": "0d9d014b",
   "metadata": {},
   "outputs": [],
   "source": [
    "class EvaluationReport(BaseModel):\n",
    "    useful: bool = Field(..., description=\"Indicates if the retrieved documents are useful for answering the question\")\n",
    "    description: str = Field(..., description=\"Detailed explanation of the evaluation result, including why the documents are or are not useful\")\n",
    "\n",
    "@tool\n",
    "def evaluate_retrieval(question: str, retrieved_docs: list) -> EvaluationReport:\n",
    "    \"\"\"\n",
    "    Based on the user's question and on the list of retrieved documents, this function \n",
    "    will analyze the usability of the documents to respond to that question. \n",
    "    args: \n",
    "    - question: original question from user\n",
    "    - retrieved_docs: retrieved documents most similar to the user query in the Vector Database\n",
    "    Outputs:\n",
    "    EvaluationReport:\n",
    "    - useful: whether the documents are useful to answer the question\n",
    "    - description: description about the evaluation result\n",
    "    \"\"\"\n",
    "\n",
    "    system_prompt = \"\"\"\n",
    "        You are an expert in evaluating the usability of documents for answering user queries.\n",
    "        Your task is to evaluate if the provided sources are enough to respond the user query.\n",
    "        Give a detailed explanation, so it's possible to take an action to accept it or not.\n",
    "    \"\"\"\n",
    "\n",
    "    user_prompt = f\"\"\"\n",
    "        User query:\\n{question}\\n\n",
    "        Retrieved documents:\\n{retrieved_docs}\n",
    "    \"\"\"\n",
    "\n",
    "    messages = [\n",
    "        SystemMessage(content=system_prompt),\n",
    "        UserMessage(content=user_prompt)\n",
    "    ]\n",
    "\n",
    "    llm_judge = LLM(\n",
    "        model=\"gpt-4.1-nano\",\n",
    "        temperature=0.0,\n",
    "        api_key=VOCAREUM_OPENAI_API_KEY,\n",
    "        base_url=VOCAREUM_BASE_URL\n",
    "    )\n",
    "\n",
    "    ai_message = llm_judge.invoke(input=messages, response_format=EvaluationReport)\n",
    "    parser = PydanticOutputParser(model_class=EvaluationReport)\n",
    "    return parser.parse(ai_message)\n"
   ]
  },
  {
   "cell_type": "code",
   "execution_count": 7,
   "id": "c5b5d7f3",
   "metadata": {},
   "outputs": [
    {
     "name": "stdout",
     "output_type": "stream",
     "text": [
      "{\n",
      "  \"useful\": true,\n",
      "  \"description\": \"The retrieved documents include detailed descriptions of the Gran Turismo series, specifically mentioning its versions for PlayStation 1 and PlayStation 3, and highlighting its features as a realistic racing simulator with a wide selection of vehicles and tracks. This information directly addresses the user's query about Gran Turismo, providing relevant and sufficient details to answer their question.\"\n",
      "}\n"
     ]
    }
   ],
   "source": [
    "# To test the function\n",
    "response_valid = evaluate_retrieval(query, response)\n",
    "print(response_valid.model_dump_json(indent=2))"
   ]
  },
  {
   "cell_type": "markdown",
   "id": "c7935a26",
   "metadata": {},
   "source": [
    "#### Game Web Search Tool"
   ]
  },
  {
   "cell_type": "code",
   "execution_count": 8,
   "id": "2ad698aa",
   "metadata": {},
   "outputs": [],
   "source": [
    "class MetaData(BaseModel):\n",
    "    timestamp: str = Field(..., description=\"The time the web search was performed, in ISO format (YYYY-MM-DD HH:MM:SS.mmmmmm)\")\n",
    "    query: str = Field(..., description=\"The original search query\")\n",
    "\n",
    "class WebSearchResult(BaseModel):\n",
    "    answer: str = Field(..., description=\"Answer to the search query\")\n",
    "    results: List[Dict] = Field(..., description=\"List of search results\")\n",
    "    search_metadata: MetaData  = Field(..., description=\"Metadata of the web search\")\n",
    "\n",
    "# Modified from Course module 06 solution notebook (Web Search with Tavily)\n",
    "@tool\n",
    "def game_web_search(query: str, search_depth: str = \"advanced\") -> Dict:\n",
    "    \"\"\"\n",
    "    Search the web using Tavily API.\n",
    "    args:\n",
    "        query (str): Search query\n",
    "        search_depth (str): Type of search - 'basic' or 'advanced' (default: advanced)\n",
    "    Output: \n",
    "    WebSearchResult:\n",
    "    - answer (str): Direct answer to the query, if available\n",
    "    - results (List[Dict]): List of search results, each containing:\n",
    "    - search_metadata (Dict): Metadata about the search, including timestamp and query\n",
    "    \"\"\"\n",
    "    client = TavilyClient(api_key=TAVILY_API_KEY)\n",
    "    \n",
    "    # Perform the search\n",
    "    search_result = client.search(\n",
    "        query=query,\n",
    "        search_depth=search_depth,\n",
    "        include_answer=True,\n",
    "        include_raw_content=False,\n",
    "        include_images=False\n",
    "    )\n",
    "    \n",
    "    # Format the results\n",
    "    formatted_results = {\n",
    "        \"answer\": search_result.get(\"answer\", \"\"),\n",
    "        \"results\": search_result.get(\"results\", []),\n",
    "        \"search_metadata\": {\n",
    "            \"timestamp\": datetime.now().isoformat(),\n",
    "            \"query\": query\n",
    "        }\n",
    "    }\n",
    "    # metadata_parser = PydanticOutputParser(model_class=WebSearchResult)\n",
    "    # validated_results = metadata_parser.parse(ai_message=AIMessage(content=str(formatted_results)))\n",
    "    validated_results = WebSearchResult(**formatted_results)\n",
    "\n",
    "    return validated_results"
   ]
  },
  {
   "cell_type": "code",
   "execution_count": 9,
   "id": "a80af3a8",
   "metadata": {},
   "outputs": [
    {
     "name": "stdout",
     "output_type": "stream",
     "text": [
      "{\n",
      "  \"answer\": \"Gran Turismo is a 2023 film based on the true story of Jann Mardenborough, a gamer who became a professional race car driver. It follows his journey from winning a video game competition to racing in real life. The film stars Orlando Bloom and Archie Madekwe.\",\n",
      "  \"results\": [\n",
      "    {\n",
      "      \"url\": \"https://en.wikipedia.org/wiki/Gran_Turismo_(film)\",\n",
      "      \"title\": \"Gran Turismo (film) - Wikipedia\",\n",
      "      \"content\": \"_Gran Turismo_( is a 2023 American biographicalsportsdrama film directed by Neill Blomkamp from a screenplay by Jason Hall \\\"Jason Hall (screenwriter)\\\") and Zach Baylin. Produced by Columbia Pictures, PlayStation Productions, and 2.0 Entertainment, it is based on the sim racing video game series \\\"Gran Turismo (series)\\\") developed by Polyphony Digital. It depicts a sensationalized account of real life British teenager Jann Mardenborough, a teenage _Gran Turismo_ player who became a professional [...] like a _Fast and Furious_ movie made without cynicism, and it gets to you\\\", finding the climax \\\"satisfying\\\".( Kristen Lopez of _TheWrap_ said: \\\"_Gran Turismo_ works best because it eschews its video game origins quickly before settling into a standard race car film. It's unknown how fans of the game will respond to the movie — no one watching the movie in this critic's theater pointed out any specific game Easter eggs — but on the whole fans of racecar films should be in for a good time.\\\"( [...] At the academy camp, Jack subjects the competitors to various tests, narrowing them down from ten to five. Jann impresses Jack by correctly diagnosing a wreck caused by glazed brakes. The final five compete in a race to determine who will represent Nissan. Jann narrowly wins against American competitor Matty Davis, but Danny prefers Matty for his commercial appeal. Jack insists on selecting Jann, who ultimately becomes the representative.\",\n",
      "      \"score\": 0.6793707,\n",
      "      \"raw_content\": null\n",
      "    },\n",
      "    {\n",
      "      \"url\": \"https://www.biography.com/movies-tv/a44796145/gran-turismo-movie-true-story-jann-mardenborough\",\n",
      "      \"title\": \"The True Story of 'Gran Turismo' and Driver Jann Mardenborough\",\n",
      "      \"content\": \"The British 33-year-old’s unlikely path from gamer to real-life racer is the subject of the 2023 movie Gran Turismo, based on the popular PlayStation series﻿ of the same name. The movie—which is now streaming on Netflix and stars Archie Madekwe as Mardenborough, Orlando Bloom, and David Harbour—tells a dramatized version of how a teenaged Mardenborough beat more than 90,000 players around the world in the 2011 GT Academy to become a professional driver. [...] Described by his mother as “quite a home boy,” the shy Mardenborough instead retreated to his bedroom to play Gran Turismo. Unlike other arcade-style racing titles, the game series—which debuted in 1997 for the original PlayStation console—is meant to accurately simulate the look and feel of driving a race car. On modern consoles, the experience is almost photorealistic. [...] In the next round, Mardenborough drove an actual car at the Brands Hatch circuit in southeast England. He was one of two participants to advance to the final portion at Silverstone, which hosts the annual Formula 1 British Grand Prix. After more cuts were made, he was one of only four drivers left to compete in a winner-take-all race on the Silverstone circuit. “The only time I thought I’d have a chance of winning was when I qualified first,” he told Car Throttle. “It was just impossible. You\",\n",
      "      \"score\": 0.57408494,\n",
      "      \"raw_content\": null\n",
      "    },\n",
      "    {\n",
      "      \"url\": \"https://www.thepopverse.com/gran-turismo-movie-racing-true-story-facts-explained-gt-academy\",\n",
      "      \"title\": \"Gran Turismo: The actual facts behind the movie | Popverse\",\n",
      "      \"content\": \"The new movie Gran Turismo tells the almost impossible-to-believe story of a young gamer named Jann Mardenborough who not only got a once-in-a-lifetime opportunity to learn to drive real racecars, but actually grabbed that opportunity by the horns and became a professional racecar driver.\\n\\nBut how much of the 'Based on a True Story' aspect of Gran Turismo is actually real? If you're heading out of the movie and want to check up on some details, we've got some answers for you below. [...] While there are obviously fictional aspects of the Gran Turismo film (especially in the supporting cast, most of whom are fictionalized), the core story from Gran Turismo is true. Jann Mardenborough was a gamer who played the Gran Turismo simulator, and winning the competition at 19 led him into a professional career racing cars. [...] Slight spoilers for Gran Turismo below.\\n\\n## Is GT Academy real?\\n\\nIt sure was, though it isn't currently in commission, having run from 2008-2016. Founded by Darren Cox, the GT Academy trained the best of the best Gran Turismo gamers for a potential future racing career. And that's not all - some of these winners went on to actual racing careers, including Gran Turismo's protagonist, Jann Mardenborough.\\n\\n## Is Jann Mardenborough's story in Gran Turismo true?\\n\\nFilm still from Gran Turismo\",\n",
      "      \"score\": 0.5382315,\n",
      "      \"raw_content\": null\n",
      "    },\n",
      "    {\n",
      "      \"url\": \"https://www.imdb.com/title/tt4495098/\",\n",
      "      \"title\": \"Gran Turismo (2023) - IMDb\",\n",
      "      \"content\": \"# Gran Turismo\\n\\nOrlando Bloom, David Harbour, and Archie Madekwe in Gran Turismo (2023)\\nBased on the unbelievable, inspiring true story of a team of underdogs - a struggling, working-class gamer, a failed former race car driver, and an idealistic motorsport exec - who risk it all to take on the most elite sport in the world. [...] Based on the unbelievable, inspiring true story of a team of underdogs - a struggling, working-class gamer, a failed former race car driver, and an idealistic motorsport exec - who risk it a... Read allBased on the unbelievable, inspiring true story of a team of underdogs - a struggling, working-class gamer, a failed former race car driver, and an idealistic motorsport exec - who risk it all to take on the most elite sport in the world.Based on the unbelievable, inspiring true story of a team [...] of underdogs - a struggling, working-class gamer, a failed former race car driver, and an idealistic motorsport exec - who risk it all to take on the most elite sport in the world.\",\n",
      "      \"score\": 0.4358301,\n",
      "      \"raw_content\": null\n",
      "    },\n",
      "    {\n",
      "      \"url\": \"https://www.rottentomatoes.com/m/gran_turismo_based_on_a_true_story\",\n",
      "      \"title\": \"Gran Turismo: Based on a True Story | Rotten Tomatoes\",\n",
      "      \"content\": \"Gran Turismo's brisk action and feel-good underdog drama are undermined by its loose telling of the fact-based story, but this is still a generally solid racing movie.\\n\\nIf you're a racing fan or you've had fun playing the Gran Turismo games, then this entertaining underdog story is a must-watch movie.\\n\\n## Critics Reviews\\n\\nCritic's profile\\nCritic's profile\\nCritic's profile\\nCritic's profile\\nCritic's profile\\nCritic's profile\\n\\n## Audience Reviews\\n\\n## My Rating\\n\\n## Cast & Crew\\n\\nNeill Blomkamp [...] email\\n\\n## Let's keep in touch!\\n\\nRotten Tomatoes Newsletter\\n\\n## Sign up for the Rotten Tomatoes newsletter to get weekly updates on:\\n\\nBy clicking \\\"Sign Me Up,\\\" you are agreeing to receive occasional emails and communications from Fandango Media (Fandango, Vudu, and Rotten Tomatoes) and consenting to Fandango's\\nPrivacy Policy\\nand\\nTerms and Policies.\\nPlease allow 10 business days for your account to reflect your preferences.\\n\\n## Let's keep in touch!\\n\\nRotten Tomatoes Newsletter [...] Director\\n\\nDavid Harbour\\n\\nJack Salter\\n\\nOrlando Bloom\\n\\nDanny Moore\\n\\nArchie Madekwe\\n\\nJann Mardenborough\\n\\nDarren Barnet\\n\\nMatty Davis\\n\\nGeri Halliwell\\n\\nLesley Mardenborough\\n\\n## Movie Clips\\n\\n### Gran Turismo: Based on a True Story\\n\\n### More Like This\\n\\n## Related Movie News\\n\\n## Videos\\n\\n### Gran Turismo: Based on a True Story\\n\\n## Photos\\n\\n### Gran Turismo: Based on a True Story\\n\\n## Movie Info\\n\\n Join the Newsletter\\n\\nGet the freshest reviews, news, and more delivered right to your inbox!\\n\\nFollow Us\",\n",
      "      \"score\": 0.41620392,\n",
      "      \"raw_content\": null\n",
      "    }\n",
      "  ],\n",
      "  \"search_metadata\": {\n",
      "    \"timestamp\": \"2025-07-30T14:50:45.864081\",\n",
      "    \"query\": \"Tell me about Gran Turismo\"\n",
      "  }\n",
      "}\n"
     ]
    }
   ],
   "source": [
    "# To test the function\n",
    "web_search_response = game_web_search(query)\n",
    "print(web_search_response.model_dump_json(indent=2))"
   ]
  },
  {
   "cell_type": "markdown",
   "id": "df844b3b",
   "metadata": {},
   "source": [
    "### Creating and invoking the Agent"
   ]
  },
  {
   "cell_type": "code",
   "execution_count": 15,
   "id": "31c56281",
   "metadata": {},
   "outputs": [],
   "source": [
    "tools = [retrieve_game, evaluate_retrieval, game_web_search]\n",
    "\n",
    "instructions = f\"\"\"\n",
    "    You are a helpful assistant that answers questions about video games. \n",
    "    Users will ask you about video games, including names, contents, publishing years, etc.\n",
    "\n",
    "    You should first check whether an answer to the question is possible based on your knowledge (stored as a VectorDB), using the `retrieve_game` tool.\n",
    "    After using `retrieve_game`, always run `evaluate_retrieval` to check whether the retrieved information is actually useful. \n",
    "    If the result of `evaluate_retrieval` is that the information is not useful, use your `game_web_search` tool to find an answer on the web. \n",
    "\n",
    "    Final output: \n",
    "    - In your final answer, always state whether the answer was from the curated database or from the open web.\n",
    "    - If you found an answer on the web, cite the highest-ranked URL you found, so that users can go look up the primary source. The users don't have access to the search results, so cite a URL with link.\n",
    "    - Do not make up facts.\n",
    "\n",
    "    EXAMPLEs for final answer: \n",
    "    - Mario Kart is a racing game developed for the Nintendo GameCube. This information was retrieved from the internal database. \n",
    "    - Zelda: Tears of the Kingdom was released in 2023. This information was found on the web, see https://www.nintendo.com/en-gb/Games/Nintendo-Switch-games/The-Legend-of-Zelda-Tears-of-the-Kingdom-1576884.html. \n",
    "\"\"\"\n",
    "\n",
    "web_agent = Agent(\n",
    "    model_name=\"gpt-4.1-nano\",\n",
    "    instructions=instructions,\n",
    "    tools=tools,\n",
    "    api_key=OPENAI_API_KEY,\n",
    "    base_url=OPENAI_BASE_URL,\n",
    ")"
   ]
  },
  {
   "cell_type": "code",
   "execution_count": 11,
   "id": "1c285ebb",
   "metadata": {},
   "outputs": [],
   "source": [
    "def print_messages(messages: List[BaseMessage]):\n",
    "    for m in messages:\n",
    "        print(f\" -> (role = {m.role}, content = {m.content}, tool_calls = {getattr(m, 'tool_calls', None)})\")"
   ]
  },
  {
   "cell_type": "code",
   "execution_count": 12,
   "id": "0ec23893",
   "metadata": {},
   "outputs": [
    {
     "name": "stdout",
     "output_type": "stream",
     "text": [
      "[StateMachine] Starting: __entry__\n",
      "[StateMachine] Executing step: message_prep\n",
      "[StateMachine] Executing step: llm_processor\n",
      "[StateMachine] Executing step: tool_executor\n",
      "[StateMachine] Executing step: llm_processor\n",
      "[StateMachine] Executing step: tool_executor\n",
      "[StateMachine] Executing step: llm_processor\n",
      "[StateMachine] Terminating: __termination__\n",
      "\n",
      "Messages from run 1:\n",
      " -> (role = system, content = \n",
      "    You are a helpful assistant that answers questions about video games. \n",
      "    Users will ask you about video games, including names, contents, publishing years, etc.\n",
      "\n",
      "    You should first check whether an answer to the question is possible based on your knowledge (stored as a VectorDB), using the `retrieve_game` tool.\n",
      "    After using `retrieve_game`, always run `evaluate_retrieval` to check whether the retrieved information is actually useful. \n",
      "    If the result of `evaluate_retrieval` is that the information is not useful, use your `game_web_search` tool to find an answer on the web. \n",
      "\n",
      "    Final output: \n",
      "    - In your final answer, always state whether the answer was from the curated database or from the open web.\n",
      "    - If you found an answer on the web, cite the highest-ranked URL you found, so that users can go look up the primary source.\n",
      "    - Do not make up facts.\n",
      "\n",
      "    EXAMPLEs for final answer: \n",
      "    - Mario Kart is a racing game developed for the Nintendo GameCube. This information was retrieved from the internal database. \n",
      "    - Zelda: Tears of the Kingdom was released in 2023. This information was found on the web, see https://www.nintendo.com/en-gb/Games/Nintendo-Switch-games/The-Legend-of-Zelda-Tears-of-the-Kingdom-1576884.html. \n",
      ", tool_calls = None)\n",
      " -> (role = user, content = When were Pokémon Gold and Silver released?, tool_calls = None)\n",
      " -> (role = assistant, content = None, tool_calls = [ChatCompletionMessageToolCall(id='call_GXBGGVhsMXZUpv0J82spRMuT', function=Function(arguments='{\"query\":\"Pokémon Gold and Silver\"}', name='retrieve_game'), type='function')])\n",
      " -> (role = tool, content = \"['[Game Boy Color] Pok\\u00e9mon Gold and Silver (1999, Nintendo) - Second-generation Pok\\u00e9mon games introducing new regions, Pok\\u00e9mon, and gameplay mechanics.', '[Game Boy Advance] Pok\\u00e9mon Ruby and Sapphire (2002, Nintendo) - Third-generation Pok\\u00e9mon games set in the Hoenn region, featuring new Pok\\u00e9mon and double battles.', '[Super Nintendo Entertainment System (SNES)] Super Mario World (1990, Nintendo) - A classic platformer where Mario embarks on a quest to save Princess Toadstool and Dinosaur Land from Bowser.', \\\"[Nintendo 64] Super Mario 64 (1996, Nintendo) - A groundbreaking 3D platformer that set new standards for the genre, featuring Mario's quest to rescue Princess Peach.\\\", '[GameCube] Super Smash Bros. Melee (2001, Nintendo) - A crossover fighting game featuring characters from various Nintendo franchises battling it out in dynamic arenas.']\", tool_calls = None)\n",
      " -> (role = assistant, content = None, tool_calls = [ChatCompletionMessageToolCall(id='call_0Oj5efrrvvYGO4mtMfpg77p1', function=Function(arguments='{\"question\":\"When were Pokémon Gold and Silver released?\",\"retrieved_docs\":\"[\\'[Game Boy Color] Pok\\\\u0000e9mon Gold and Silver (1999, Nintendo) - Second-generation Pok\\\\u0000e9mon games introducing new regions, Pok\\\\u0000e9mon, and gameplay mechanics.\\', \\'[Game Boy Advance] Pok\\\\u0000e9mon Ruby and Sapphire (2002, Nintendo) - Third-generation Pok\\\\u0000e9mon games set in the Hoenn region, featuring new Pok\\\\u0000e9mon and double battles.\\', \\'[Super Nintendo Entertainment System (SNES)] Super Mario World (1990, Nintendo) - A classic platformer where Mario embarks on a quest to save Princess Toadstool and Dinosaur Land from Bowser.\\', \\\\\"[Nintendo 64] Super Mario 64 (1996, Nintendo) - A groundbreaking 3D platformer that set new standards for the genre, featuring Mario\\'s quest to rescue Princess Peach.\\\\\", \\'[GameCube] Super Smash Bros. Melee (2001, Nintendo) - A crossover fighting game featuring characters from various Nintendo franchises battling it out in dynamic arenas.\\']\"}', name='evaluate_retrieval'), type='function')])\n",
      " -> (role = tool, content = \"useful=True description=\\\"The retrieved documents include a specific mention of Pok\\u00e9mon Gold and Silver, noting their release year as 1999 and their association with the Game Boy Color. This directly addresses the user's query about the release date of these games. The other documents, while related to Nintendo and Pok\\u00e9mon, do not provide relevant information about Gold and Silver's release date. Therefore, the documents are sufficient to answer the user's question.\\\"\", tool_calls = None)\n",
      " -> (role = assistant, content = Pokémon Gold and Silver were released in 1999. This information was retrieved from the internal database., tool_calls = None)\n"
     ]
    }
   ],
   "source": [
    "query1=\"When were Pokémon Gold and Silver released?\"\n",
    "\n",
    "run1 = web_agent.invoke(\n",
    "    query=query1\n",
    ")\n",
    "\n",
    "print(\"\\nMessages from run 1:\")\n",
    "messages = run1.get_final_state()[\"messages\"]\n",
    "print_messages(messages)\n",
    "\n"
   ]
  },
  {
   "cell_type": "code",
   "execution_count": 13,
   "id": "ba8d3b7c",
   "metadata": {},
   "outputs": [
    {
     "name": "stdout",
     "output_type": "stream",
     "text": [
      "[StateMachine] Starting: __entry__\n",
      "[StateMachine] Executing step: message_prep\n",
      "[StateMachine] Executing step: llm_processor\n",
      "[StateMachine] Executing step: tool_executor\n",
      "[StateMachine] Executing step: llm_processor\n",
      "[StateMachine] Executing step: tool_executor\n",
      "[StateMachine] Executing step: llm_processor\n",
      "[StateMachine] Terminating: __termination__\n",
      "\n",
      "Messages from run 2:\n",
      " -> (role = system, content = \n",
      "    You are a helpful assistant that answers questions about video games. \n",
      "    Users will ask you about video games, including names, contents, publishing years, etc.\n",
      "\n",
      "    You should first check whether an answer to the question is possible based on your knowledge (stored as a VectorDB), using the `retrieve_game` tool.\n",
      "    After using `retrieve_game`, always run `evaluate_retrieval` to check whether the retrieved information is actually useful. \n",
      "    If the result of `evaluate_retrieval` is that the information is not useful, use your `game_web_search` tool to find an answer on the web. \n",
      "\n",
      "    Final output: \n",
      "    - In your final answer, always state whether the answer was from the curated database or from the open web.\n",
      "    - If you found an answer on the web, cite the highest-ranked URL you found, so that users can go look up the primary source.\n",
      "    - Do not make up facts.\n",
      "\n",
      "    EXAMPLEs for final answer: \n",
      "    - Mario Kart is a racing game developed for the Nintendo GameCube. This information was retrieved from the internal database. \n",
      "    - Zelda: Tears of the Kingdom was released in 2023. This information was found on the web, see https://www.nintendo.com/en-gb/Games/Nintendo-Switch-games/The-Legend-of-Zelda-Tears-of-the-Kingdom-1576884.html. \n",
      ", tool_calls = None)\n",
      " -> (role = user, content = When were Pokémon Gold and Silver released?, tool_calls = None)\n",
      " -> (role = assistant, content = None, tool_calls = [ChatCompletionMessageToolCall(id='call_GXBGGVhsMXZUpv0J82spRMuT', function=Function(arguments='{\"query\":\"Pokémon Gold and Silver\"}', name='retrieve_game'), type='function')])\n",
      " -> (role = tool, content = \"['[Game Boy Color] Pok\\u00e9mon Gold and Silver (1999, Nintendo) - Second-generation Pok\\u00e9mon games introducing new regions, Pok\\u00e9mon, and gameplay mechanics.', '[Game Boy Advance] Pok\\u00e9mon Ruby and Sapphire (2002, Nintendo) - Third-generation Pok\\u00e9mon games set in the Hoenn region, featuring new Pok\\u00e9mon and double battles.', '[Super Nintendo Entertainment System (SNES)] Super Mario World (1990, Nintendo) - A classic platformer where Mario embarks on a quest to save Princess Toadstool and Dinosaur Land from Bowser.', \\\"[Nintendo 64] Super Mario 64 (1996, Nintendo) - A groundbreaking 3D platformer that set new standards for the genre, featuring Mario's quest to rescue Princess Peach.\\\", '[GameCube] Super Smash Bros. Melee (2001, Nintendo) - A crossover fighting game featuring characters from various Nintendo franchises battling it out in dynamic arenas.']\", tool_calls = None)\n",
      " -> (role = assistant, content = None, tool_calls = [ChatCompletionMessageToolCall(id='call_0Oj5efrrvvYGO4mtMfpg77p1', function=Function(arguments='{\"question\":\"When were Pokémon Gold and Silver released?\",\"retrieved_docs\":\"[\\'[Game Boy Color] Pok\\\\u0000e9mon Gold and Silver (1999, Nintendo) - Second-generation Pok\\\\u0000e9mon games introducing new regions, Pok\\\\u0000e9mon, and gameplay mechanics.\\', \\'[Game Boy Advance] Pok\\\\u0000e9mon Ruby and Sapphire (2002, Nintendo) - Third-generation Pok\\\\u0000e9mon games set in the Hoenn region, featuring new Pok\\\\u0000e9mon and double battles.\\', \\'[Super Nintendo Entertainment System (SNES)] Super Mario World (1990, Nintendo) - A classic platformer where Mario embarks on a quest to save Princess Toadstool and Dinosaur Land from Bowser.\\', \\\\\"[Nintendo 64] Super Mario 64 (1996, Nintendo) - A groundbreaking 3D platformer that set new standards for the genre, featuring Mario\\'s quest to rescue Princess Peach.\\\\\", \\'[GameCube] Super Smash Bros. Melee (2001, Nintendo) - A crossover fighting game featuring characters from various Nintendo franchises battling it out in dynamic arenas.\\']\"}', name='evaluate_retrieval'), type='function')])\n",
      " -> (role = tool, content = \"useful=True description=\\\"The retrieved documents include a specific mention of Pok\\u00e9mon Gold and Silver, noting their release year as 1999 and their association with the Game Boy Color. This directly addresses the user's query about the release date of these games. The other documents, while related to Nintendo and Pok\\u00e9mon, do not provide relevant information about Gold and Silver's release date. Therefore, the documents are sufficient to answer the user's question.\\\"\", tool_calls = None)\n",
      " -> (role = assistant, content = Pokémon Gold and Silver were released in 1999. This information was retrieved from the internal database., tool_calls = None)\n",
      " -> (role = user, content = Which one was the first 3D platformer Mario game?, tool_calls = None)\n",
      " -> (role = assistant, content = None, tool_calls = [ChatCompletionMessageToolCall(id='call_CcKH4FkEyxVvh9HesQVKf7oD', function=Function(arguments='{\"query\":\"first 3D platformer Mario game\"}', name='retrieve_game'), type='function')])\n",
      " -> (role = tool, content = \"[\\\"[Nintendo 64] Super Mario 64 (1996, Nintendo) - A groundbreaking 3D platformer that set new standards for the genre, featuring Mario's quest to rescue Princess Peach.\\\", '[Super Nintendo Entertainment System (SNES)] Super Mario World (1990, Nintendo) - A classic platformer where Mario embarks on a quest to save Princess Toadstool and Dinosaur Land from Bowser.', '[Nintendo Switch] Mario Kart 8 Deluxe (2017, Nintendo) - An enhanced version of Mario Kart 8, featuring new characters, tracks, and improved gameplay mechanics.', '[GameCube] Super Smash Bros. Melee (2001, Nintendo) - A crossover fighting game featuring characters from various Nintendo franchises battling it out in dynamic arenas.', '[Game Boy Color] Pok\\u00e9mon Gold and Silver (1999, Nintendo) - Second-generation Pok\\u00e9mon games introducing new regions, Pok\\u00e9mon, and gameplay mechanics.']\", tool_calls = None)\n",
      " -> (role = assistant, content = None, tool_calls = [ChatCompletionMessageToolCall(id='call_cE51yNBqAFi0A2Jjv815GgHs', function=Function(arguments='{\"question\":\"which one was the first 3D platformer Mario game\",\"retrieved_docs\":\"[\\\\\"[Nintendo 64] Super Mario 64 (1996, Nintendo) - A groundbreaking 3D platformer that set new standards for the genre, featuring Mario\\'s quest to rescue Princess Peach.\\\\\", \\'[Super Nintendo Entertainment System (SNES)] Super Mario World (1990, Nintendo) - A classic platformer where Mario embarks on a quest to save Princess Toadstool and Dinosaur Land from Bowser.\\', \\'[Nintendo Switch] Mario Kart 8 Deluxe (2017, Nintendo) - An enhanced version of Mario Kart 8, featuring new characters, tracks, and improved gameplay mechanics.\\', \\'[GameCube] Super Smash Bros. Melee (2001, Nintendo) - A crossover fighting game featuring characters from various Nintendo franchises battling it out in dynamic arenas.\\', \\'[Game Boy Color] Pok\\\\u0000e9mon Gold and Silver (1999, Nintendo) - Second-generation Pok\\\\u0000e9mon games introducing new regions, Pok\\\\u0000e9mon, and gameplay mechanics.\\']\"}', name='evaluate_retrieval'), type='function')])\n",
      " -> (role = tool, content = \"useful=True description=\\\"The retrieved documents include 'Super Mario 64' from 1996, which is widely recognized as the first 3D platformer featuring Mario. The other documents mention Mario games but are either 2D platformers or unrelated genres. Therefore, the documents are sufficient to answer the user's question about the first 3D Mario platformer.\\\"\", tool_calls = None)\n",
      " -> (role = assistant, content = The first 3D platformer Mario game was \"Super Mario 64,\" released in 1996 for the Nintendo 64. This game is considered a groundbreaking title that set new standards for 3D platforming. This information was retrieved from the internal database., tool_calls = None)\n"
     ]
    }
   ],
   "source": [
    "query2=\"Which one was the first 3D platformer Mario game?\"\n",
    "run2 = web_agent.invoke(\n",
    "    query=query2\n",
    ")\n",
    "\n",
    "print(\"\\nMessages from run 2:\")\n",
    "messages = run2.get_final_state()[\"messages\"]\n",
    "print_messages(messages)"
   ]
  },
  {
   "cell_type": "code",
   "execution_count": 16,
   "id": "ef1bca25",
   "metadata": {},
   "outputs": [
    {
     "name": "stdout",
     "output_type": "stream",
     "text": [
      "[StateMachine] Starting: __entry__\n",
      "[StateMachine] Executing step: message_prep\n",
      "[StateMachine] Executing step: llm_processor\n",
      "[StateMachine] Executing step: tool_executor\n",
      "[StateMachine] Executing step: llm_processor\n",
      "[StateMachine] Executing step: tool_executor\n",
      "[StateMachine] Executing step: llm_processor\n",
      "[StateMachine] Executing step: tool_executor\n",
      "[StateMachine] Executing step: llm_processor\n",
      "[StateMachine] Terminating: __termination__\n",
      "\n",
      "Messages from run 3:\n",
      " -> (role = system, content = \n",
      "    You are a helpful assistant that answers questions about video games. \n",
      "    Users will ask you about video games, including names, contents, publishing years, etc.\n",
      "\n",
      "    You should first check whether an answer to the question is possible based on your knowledge (stored as a VectorDB), using the `retrieve_game` tool.\n",
      "    After using `retrieve_game`, always run `evaluate_retrieval` to check whether the retrieved information is actually useful. \n",
      "    If the result of `evaluate_retrieval` is that the information is not useful, use your `game_web_search` tool to find an answer on the web. \n",
      "\n",
      "    Final output: \n",
      "    - In your final answer, always state whether the answer was from the curated database or from the open web.\n",
      "    - If you found an answer on the web, cite the highest-ranked URL you found, so that users can go look up the primary source. The users don't have access to the search results, so cite a URL with link.\n",
      "    - Do not make up facts.\n",
      "\n",
      "    EXAMPLEs for final answer: \n",
      "    - Mario Kart is a racing game developed for the Nintendo GameCube. This information was retrieved from the internal database. \n",
      "    - Zelda: Tears of the Kingdom was released in 2023. This information was found on the web, see https://www.nintendo.com/en-gb/Games/Nintendo-Switch-games/The-Legend-of-Zelda-Tears-of-the-Kingdom-1576884.html. \n",
      ", tool_calls = None)\n",
      " -> (role = user, content = Was Mortal Kombat X realeased for Playstation 5?, tool_calls = None)\n",
      " -> (role = assistant, content = None, tool_calls = [ChatCompletionMessageToolCall(id='call_TuIX2QEFiF1Cmla2WSNWMYoO', function=Function(arguments='{\"query\":\"Mortal Kombat X\"}', name='retrieve_game'), type='function')])\n",
      " -> (role = tool, content = \"[\\\"[Xbox Series X|S] Halo Infinite (2021, Xbox Game Studios) - The latest installment in the Halo franchise, featuring Master Chief's return in a new open-world setting.\\\", '[GameCube] Super Smash Bros. Melee (2001, Nintendo) - A crossover fighting game featuring characters from various Nintendo franchises battling it out in dynamic arenas.', '[Nintendo Switch] Mario Kart 8 Deluxe (2017, Nintendo) - An enhanced version of Mario Kart 8, featuring new characters, tracks, and improved gameplay mechanics.', '[Xbox 360] Kinect Adventures! (2010, Microsoft Game Studios) - A collection of mini-games designed to showcase the capabilities of the Kinect motion sensor.', '[Xbox One] Minecraft (2014, Mojang Studios) - A sandbox game that allows players to build and explore infinite worlds, fostering creativity and adventure.']\", tool_calls = None)\n",
      " -> (role = assistant, content = None, tool_calls = [ChatCompletionMessageToolCall(id='call_xvC8R9VGiuaNKJcIk8CVvuEG', function=Function(arguments='{\"question\":\"Was Mortal Kombat X released for Playstation 5?\",\"retrieved_docs\":\"[\\\\\"[Xbox Series X|S] Halo Infinite (2021, Xbox Game Studios) - The latest installment in the Halo franchise, featuring Master Chief\\'s return in a new open-world setting.\\\\\", \\'[GameCube] Super Smash Bros. M...\"}', name='evaluate_retrieval'), type='function')])\n",
      " -> (role = tool, content = \"useful=False description=\\\"The retrieved documents do not contain any information related to the release of Mortal Kombat X for PlayStation 5. They mention other games and platforms but do not address the specific query about Mortal Kombat X and PlayStation 5, making them not useful for answering the user's question.\\\"\", tool_calls = None)\n",
      " -> (role = assistant, content = None, tool_calls = [ChatCompletionMessageToolCall(id='call_3ZEn9p26lXNSPeKC3VtPzDZL', function=Function(arguments='{\"query\":\"Mortal Kombat X release on PlayStation 5\"}', name='game_web_search'), type='function')])\n",
      " -> (role = tool, content = \"answer='Mortal Kombat X is playable on PS5 via backward compatibility. It was released on April 14, 2015, for PS4. Some PS4 features may not be available on PS5.' results=[{'url': 'https://www.youtube.com/watch?v=9Dto2mjnliA', 'title': 'PlayStation 5 | Mortal Kombat X | Backwards compatible test', 'content': \\\"hey guys and girls and thank you for watching another episode of the PlayStation tester my name is Maurice today we're getting a look at Mortal Kombat X on the PlayStation 5 so this is still a PlayStation 4 game that runs backwards compatible on your PlayStation 5 so without further Ado let's just dive in first of all let's see how much data this game is and that's only 44.89 GB it's version 1.16 and um I've got it installed on my internal SSD so in terms of uh loading times it should be good [...] come on oh my [Music] goodness lack Focus ah pancakes l k wins you will not be remembered round let's see how do you do R2 and up right trigger well I've got one oh pancakes oh that's got to hurt o love it finish him here we go now he has a split personality WIS fatality oh my goodness is insane funny but insane yeah you guys this is Mortal Kombat X on the PlayStation 5 and like I said if you can get it cheap it's a lot of fun thank you for watching hope you had fun hope see you guys soon in [...] 6 comments\\\\n### Transcript:\\\", 'score': 0.8405867, 'raw_content': None}, {'url': 'https://www.youtube.com/watch?v=HUNMZwDdrvY', 'title': 'Mortal Kombat X (PS5) 4K 60FPS HDR Gameplay - YouTube', 'content': 'Mortal Kombat X[b] is a 2015 fighting game developed by NetherRealm Studios and published by Warner Bros. Interactive Entertainment for Windows, PlayStation 4, and Xbox One. It is the tenth main installment in the Mortal Kombat series and a sequel to Mortal Kombat (2011), taking place 25 years later after the events of its predecessor. High Voltage Software developed the Windows version of the game, with Polish studio QLOC taking over the work on it shortly after the release of Kombat Pack 1. [...] \\u25b6TikTok @dieisongames\\\\n\\\\n\\u25b6Insta @dieisongames\\\\n\\\\n\\u25b62\\u00ba Channel\\\\n \\\\n\\\\nMortal Kombat X (PS5) 4K 60FPS HDR Gameplay\\\\nMortal Kombat X 4k Gameplay PS5\\\\n\\\\n#MortalKombatX #ps5 #playstation5 #ps5version \\\\n\\\\n-~-~~-~~~-~~-~-\\\\nPlease watch: \\\"Gran Turismo 7 (PS5) 4K 60FPS HDR Gameplay (Tomahawk 645 km/h)\\\"\\\\n\\\\n-~-~~-~~~-~~-~- [...] 2 comments\\\\n### Transcript:', 'score': 0.8033131, 'raw_content': None}, {'url': 'https://store.playstation.com/en-us/product/UP1018-CUSA00967_00-MORTALKOMBATX000', 'title': 'Mortal Kombat X - Playstation Store', 'content': 'To play this game on PS5, your system may need to be updated to the latest system software. Although this game is playable on PS5, some features available on PS4 may be absent. See PlayStation.com/bc for more details.\\\\n\\\\nOnline features require an account and are subject to terms of service and applicable privacy policy (playstationnetwork.com/terms-of-service & playstationnetwork.com/privacy-policy). \\\\n\\\\nSoftware subject to license (us.playstation.com/softwarelicense).', 'score': 0.6912478, 'raw_content': None}, {'url': 'https://www.playstation.com/en-us/games/mortal-kombat-x_msm_moved/', 'title': 'Mortal Kombat X - PlayStation', 'content': \\\"To play this game on PS5, your system may need to be updated to the latest system software. Although this game is playable on PS5, some features available on PS4 may be absent. See PlayStation.com/bc for more details.\\\\n\\\\nOnline features require an account and are subject to terms of service and applicable privacy policy (playstationnetwork.com/terms-of-service & playstationnetwork.com/privacy-policy). \\\\n\\\\nSoftware subject to license (us.playstation.com/softwarelicense). [...] You're about to permanently delete this review. This can't be undone.\\\\n\\\\nCancel;)Delete;)\\\\n\\\\nSpoiler\\\\n\\\\nPlatform:PS4 Release:4/14/2015 Publisher:Warner Bros. Interactive Genres:Fighting, Fighting Voice:English, French (France), German, Italian, Portuguese (Brazil), Spanish (Mexico)Screen Languages:English, French (France), German, Italian, Polish, Portuguese (Brazil), Russian, Spanish (Mexico) [...] WB GAMES LOGO, WB SHIELD, NETHERREALM LOGO, MORTAL KOMBAT, THE DRAGON LOGO, and all related characters and elements are trademarks of and \\u00a9 Warner Bros. Entertainment Inc.\\\\n\\\\n(s15)\\\\n\\\\n'\\\\n\\\\n   Home\\\\n   Games\\\\n    Mortal Kombat X  \\\\n\\\\n About \\\\n\\\\n   About SIE\\\\n   Careers\\\\n   PlayStation Studios\\\\n   PlayStation Productions\\\\n   Corporate\\\\n   History of PlayStation\\\\n\\\\n Products \\\\n\\\\n   PS5\\\\n   PS4\\\\n   PS VR2\\\\n   PS Plus\\\\n   Accessories\\\\n   Games\\\\n\\\\n Values\\\", 'score': 0.6864757, 'raw_content': None}, {'url': 'https://en.wikipedia.org/wiki/Mortal_Kombat_X', 'title': 'Mortal Kombat X - Wikipedia', 'content': \\\"An upgraded version of _Mortal Kombat X_, titled _Mortal Kombat XL_,( was released on March 1, 2016, for PlayStation 4 and Xbox One, including all downloadable content characters from the two released Kombat Packs, almost all bonus alternate costumes available at the time of release, improved gameplay, and improved netcode. This edition was also released for Windows on October 4, 2016. A sequel, _Mortal Kombat 11_, was released on April 23, 2019, for Nintendo Switch, PlayStation 4, Windows, and [...] _Mortal Kombat X_ was released worldwide (except Germany) for PC, PlayStation 4, and Xbox One on April 14, 2015. For reasons relating to the initial refusal by the German USK to issue the game with an age rating, the official German release of _Mortal Kombat X_ was delayed until September 1, 2015. The game's _Kollector's Edition_ includes a figurine of Scorpion and the Gold Scorpion skin, as well as future access to Kombat Pack 1.( Simultaneously with the release of Kombat Pack 2 and _Mortal [...] 2015, in select Asian countries( and was officially launched worldwide on May 4, 2015.(\\\", 'score': 0.67269784, 'raw_content': None}] search_metadata=MetaData(timestamp='2025-07-30T14:53:23.715064', query='Mortal Kombat X release on PlayStation 5')\", tool_calls = None)\n",
      " -> (role = assistant, content = Mortal Kombat X was released in 2015 for PlayStation 4. It is playable on PlayStation 5 via backward compatibility. However, some features available on PS4 may not be available on PS5. This information was found on the web, see https://store.playstation.com/en-us/product/UP1018-CUSA00967_00-MORTALKOMBATX000., tool_calls = None)\n"
     ]
    }
   ],
   "source": [
    "query3=\"Was Mortal Kombat X realeased for Playstation 5?\"\n",
    "\n",
    "run3 = web_agent.invoke(\n",
    "    query=query3\n",
    ")\n",
    "\n",
    "print(\"\\nMessages from run 3:\")\n",
    "messages = run3.get_final_state()[\"messages\"]\n",
    "print_messages(messages)\n"
   ]
  },
  {
   "cell_type": "markdown",
   "id": "f0a55081",
   "metadata": {},
   "source": [
    "### (Optional) Advanced"
   ]
  },
  {
   "cell_type": "code",
   "execution_count": null,
   "id": "eb83fbb1",
   "metadata": {},
   "outputs": [],
   "source": [
    "# TODO: Update your agent with long-term memory\n",
    "# TODO: Convert the agent to be a state machine, with the tools being pre-defined nodes"
   ]
  }
 ],
 "metadata": {
  "kernelspec": {
   "display_name": ".venv",
   "language": "python",
   "name": "python3"
  },
  "language_info": {
   "codemirror_mode": {
    "name": "ipython",
    "version": 3
   },
   "file_extension": ".py",
   "mimetype": "text/x-python",
   "name": "python",
   "nbconvert_exporter": "python",
   "pygments_lexer": "ipython3",
   "version": "3.11.9"
  }
 },
 "nbformat": 4,
 "nbformat_minor": 5
}
