{
 "cells": [
  {
   "cell_type": "markdown",
   "id": "6fdd0bcb",
   "metadata": {},
   "source": [
    "# Udaplay Project"
   ]
  },
  {
   "cell_type": "markdown",
   "id": "9325b035",
   "metadata": {},
   "source": [
    "## Part 02 - Agent\n",
    "\n",
    "In this part of the project, you'll use your VectorDB to be part of your Agent as a tool.\n",
    "\n",
    "You're building UdaPlay, an AI Research Agent for the video game industry. The agent will:\n",
    "1. Answer questions using internal knowledge (RAG)\n",
    "2. Search the web when needed\n",
    "3. Maintain conversation state\n",
    "4. Return structured outputs\n",
    "5. Store useful information for future use"
   ]
  },
  {
   "cell_type": "markdown",
   "id": "2b42de90",
   "metadata": {},
   "source": [
    "### Setup and Imports"
   ]
  },
  {
   "cell_type": "code",
   "execution_count": null,
   "id": "a963d4ca",
   "metadata": {},
   "outputs": [],
   "source": [
    "# Only needed for Udacity workspace\n",
    "\n",
    "import importlib.util\n",
    "import sys\n",
    "\n",
    "# Check if 'pysqlite3' is available before importing\n",
    "if importlib.util.find_spec(\"pysqlite3\") is not None:\n",
    "    import pysqlite3\n",
    "    sys.modules['sqlite3'] = sys.modules.pop('pysqlite3')"
   ]
  },
  {
   "cell_type": "code",
   "execution_count": 1,
   "id": "fd10c06e",
   "metadata": {},
   "outputs": [],
   "source": [
    "# For example: \n",
    "import os\n",
    "from dotenv import load_dotenv                  # For loading environment variables from .env file\n",
    "from datetime import datetime                   # For websearch metadata assignment\n",
    "\n",
    "from typing import List, Dict, Any, Annotated\n",
    "from pydantic import BaseModel, Field\n",
    "\n",
    "from lib.agents import Agent                    # For Agent class\n",
    "from lib.llm import LLM                         # For Large Language Model\n",
    "from lib.messages import UserMessage, SystemMessage, BaseMessage\n",
    "from lib.tooling import tool                    # For defining tools    \n",
    "from lib.parsers import PydanticOutputParser    # To return structured output from LLM\n",
    "\n",
    "from chromadb import PersistentClient           # For Vector Database\n",
    "# import chromadb\n",
    "\n",
    "from tavily import TavilyClient                 # For Web Search\n"
   ]
  },
  {
   "cell_type": "code",
   "execution_count": 8,
   "id": "87e465d4",
   "metadata": {},
   "outputs": [],
   "source": [
    "# Load environment variables\n",
    "load_dotenv()\n",
    "\n",
    "OPENAI_API_KEY = os.getenv(\"OPENAI_API_KEY\")\n",
    "OPENAI_BASE_URL = os.getenv(\"OPENAI_BASE_URL\")\n",
    "TAVILY_API_KEY = os.getenv(\"TAVILY_API_KEY\")\n",
    "VOCAREUM_OPENAI_API_KEY=os.getenv(\"VOCAREUM_OPENAI_API_KEY\")\n",
    "VOCAREUM_BASE_URL=os.getenv(\"VOCAREUM_BASE_URL\")"
   ]
  },
  {
   "cell_type": "markdown",
   "id": "b0955006",
   "metadata": {},
   "source": [
    "Setting up ChromaDB paths and names. Should be consistent with what you used in the `Udaplay_01.ipynb` file."
   ]
  },
  {
   "cell_type": "code",
   "execution_count": 3,
   "id": "1614303d",
   "metadata": {},
   "outputs": [],
   "source": [
    "CHROMADB_PATH = \"chromadb\"\n",
    "CHROMADB_COLLECTION_NAME = \"udaplay\""
   ]
  },
  {
   "cell_type": "code",
   "execution_count": null,
   "id": "ce364221",
   "metadata": {},
   "outputs": [],
   "source": []
  },
  {
   "cell_type": "markdown",
   "id": "27de4729",
   "metadata": {},
   "source": [
    "### Tools"
   ]
  },
  {
   "cell_type": "markdown",
   "id": "46ab2dac",
   "metadata": {},
   "source": [
    "Build at least 3 tools:\n",
    "- retrieve_game: To search the vector DB\n",
    "- evaluate_retrieval: To assess the retrieval performance\n",
    "- game_web_search: If no good, search the web\n"
   ]
  },
  {
   "cell_type": "markdown",
   "id": "ce4f14cd",
   "metadata": {},
   "source": [
    "#### Retrieve Game Tool"
   ]
  },
  {
   "cell_type": "code",
   "execution_count": 4,
   "id": "b25c36dd",
   "metadata": {},
   "outputs": [],
   "source": [
    "@tool\n",
    "def retrieve_game(query: str, n_results: int=4) -> List:\n",
    "    \"\"\"\n",
    "#    Semantic search: Finds most relevant results in the vector DB\n",
    "#    args:\n",
    "#    - query: a question about game industry. \n",
    "#    - n_results: number of results to return (default is 4)\n",
    "#\n",
    "#    You'll receive results as list. Each element contains:\n",
    "#    - Platform: like Game Boy, Playstation 5, Xbox 360...)\n",
    "#    - Name: Name of the Game\n",
    "#    - YearOfRelease: Year when that game was released for that platform\n",
    "#    - Description: Additional details about the game\n",
    "    \"\"\"\n",
    "\n",
    "    # collection.query(\n",
    "        # query_texts=[query],\n",
    "        # n_results=n_results,\n",
    "        # include=['metadatas', 'documents', 'distances'] # TODO: look at collection.peek() to understand this better.\n",
    "    # )\n",
    "\n",
    "    # These have been created in Phase 1\n",
    "    chroma_client = PersistentClient(path=CHROMADB_PATH)\n",
    "    collection = chroma_client.get_collection(CHROMADB_COLLECTION_NAME)\n",
    "\n",
    "    results = collection.query(\n",
    "        query_texts=[query], \n",
    "        n_results=5\n",
    "        )\n",
    "    \n",
    "    return results[\"documents\"][0]"
   ]
  },
  {
   "cell_type": "code",
   "execution_count": 52,
   "id": "2cf8a174",
   "metadata": {},
   "outputs": [
    {
     "name": "stdout",
     "output_type": "stream",
     "text": [
      "['[PlayStation 3] Gran Turismo 5 (2010, Sony Computer Entertainment) - A comprehensive racing simulator featuring a vast selection of vehicles and tracks, with realistic driving physics.', '[PlayStation 1] Gran Turismo (1997, Sony Computer Entertainment) - A realistic racing simulator featuring a wide array of cars and tracks, setting a new standard for the genre.', \"[PlayStation 2] Grand Theft Auto: San Andreas (2004, Rockstar Games) - An expansive open-world game set in the fictional state of San Andreas, following the story of Carl 'CJ' Johnson.\", '[Nintendo Switch] Mario Kart 8 Deluxe (2017, Nintendo) - An enhanced version of Mario Kart 8, featuring new characters, tracks, and improved gameplay mechanics.', \"[PlayStation 4] Marvel's Spider-Man (2018, Sony Interactive Entertainment) - An open-world superhero game that lets players swing through New York City as Spider-Man, battling iconic villains.\"]\n"
     ]
    }
   ],
   "source": [
    "# To test the function\n",
    "query = \"Tell me about Gran Turismo\"\n",
    "response = retrieve_game(query)\n",
    "print(response)"
   ]
  },
  {
   "cell_type": "markdown",
   "id": "910dc945",
   "metadata": {},
   "source": [
    "#### Evaluate Retrieval Tool"
   ]
  },
  {
   "cell_type": "code",
   "execution_count": 5,
   "id": "0d9d014b",
   "metadata": {},
   "outputs": [],
   "source": [
    "class EvaluationReport(BaseModel):\n",
    "    useful: bool = Field(..., description=\"Indicates if the retrieved documents are useful for answering the question\")\n",
    "    description: str = Field(..., description=\"Detailed explanation of the evaluation result, including why the documents are or are not useful\")\n",
    "\n",
    "@tool\n",
    "def evaluate_retrieval(question: str, retrieved_docs: list) -> EvaluationReport:\n",
    "    \"\"\"\n",
    "    Based on the user's question and on the list of retrieved documents, this function \n",
    "    will analyze the usability of the documents to respond to that question. \n",
    "    args: \n",
    "    - question: original question from user\n",
    "    - retrieved_docs: retrieved documents most similar to the user query in the Vector Database\n",
    "    Outputs:\n",
    "    EvaluationReport:\n",
    "    - useful: whether the documents are useful to answer the question\n",
    "    - description: description about the evaluation result\n",
    "    \"\"\"\n",
    "\n",
    "    system_prompt = \"\"\"\n",
    "        You are an expert in evaluating the usability of documents for answering user queries.\n",
    "        Your task is to evaluate if the provided sources are enough to respond the user query.\n",
    "        Give a detailed explanation, so it's possible to take an action to accept it or not.\n",
    "    \"\"\"\n",
    "\n",
    "    user_prompt = f\"\"\"\n",
    "        User query:\\n{question}\\n\n",
    "        Retrieved documents:\\n{retrieved_docs}\n",
    "    \"\"\"\n",
    "\n",
    "    messages = [\n",
    "        SystemMessage(content=system_prompt),\n",
    "        UserMessage(content=user_prompt)\n",
    "    ]\n",
    "\n",
    "    llm_judge = LLM(\n",
    "        model=\"gpt-4.1-nano\",\n",
    "        temperature=0.0,\n",
    "        api_key=VOCAREUM_OPENAI_API_KEY,\n",
    "        base_url=VOCAREUM_BASE_URL\n",
    "    )\n",
    "\n",
    "    ai_message = llm_judge.invoke(input=messages, response_format=EvaluationReport)\n",
    "    parser = PydanticOutputParser(model_class=EvaluationReport)\n",
    "    return parser.parse(ai_message)\n"
   ]
  },
  {
   "cell_type": "code",
   "execution_count": 54,
   "id": "c5b5d7f3",
   "metadata": {},
   "outputs": [
    {
     "name": "stdout",
     "output_type": "stream",
     "text": [
      "{\n",
      "  \"useful\": true,\n",
      "  \"description\": \"The retrieved documents include detailed descriptions of the Gran Turismo series, specifically mentioning the PlayStation 3 version of Gran Turismo 5 and the original PlayStation version of Gran Turismo. These entries highlight the series' focus on realistic racing simulation, vehicle variety, and track selection. Although there is some unrelated information about other games, the documents provide sufficient information about the Gran Turismo series to answer a user query about it, including its nature as a racing simulator and its historical significance.\"\n",
      "}\n"
     ]
    }
   ],
   "source": [
    "# To test the function\n",
    "response_valid = evaluate_retrieval(query, response)\n",
    "print(response_valid.model_dump_json(indent=2))"
   ]
  },
  {
   "cell_type": "markdown",
   "id": "c7935a26",
   "metadata": {},
   "source": [
    "#### Game Web Search Tool"
   ]
  },
  {
   "cell_type": "code",
   "execution_count": 6,
   "id": "2ad698aa",
   "metadata": {},
   "outputs": [],
   "source": [
    "class MetaData(BaseModel):\n",
    "    timestamp: str = Field(..., description=\"The time the web search was performed, in ISO format (YYYY-MM-DD HH:MM:SS.mmmmmm)\")\n",
    "    query: str = Field(..., description=\"The original search query\")\n",
    "\n",
    "class WebSearchResult(BaseModel):\n",
    "    answer: str = Field(..., description=\"Answer to the search query\")\n",
    "    results: List[Dict] = Field(..., description=\"List of search results\")\n",
    "    search_metadata: MetaData  = Field(..., description=\"Metadata of the web search\")\n",
    "\n",
    "# Modified from Course module 06 solution notebook (Web Search with Tavily)\n",
    "@tool\n",
    "def game_web_search(query: str, search_depth: str = \"advanced\") -> Dict:\n",
    "    \"\"\"\n",
    "    Search the web using Tavily API.\n",
    "    args:\n",
    "        query (str): Search query\n",
    "        search_depth (str): Type of search - 'basic' or 'advanced' (default: advanced)\n",
    "    Output: \n",
    "    WebSearchResult:\n",
    "    - answer (str): Direct answer to the query, if available\n",
    "    - results (List[Dict]): List of search results, each containing:\n",
    "    - search_metadata (Dict): Metadata about the search, including timestamp and query\n",
    "    \"\"\"\n",
    "    client = TavilyClient(api_key=TAVILY_API_KEY)\n",
    "    \n",
    "    # Perform the search\n",
    "    search_result = client.search(\n",
    "        query=query,\n",
    "        search_depth=search_depth,\n",
    "        include_answer=True,\n",
    "        include_raw_content=False,\n",
    "        include_images=False\n",
    "    )\n",
    "    \n",
    "    # Format the results\n",
    "    formatted_results = {\n",
    "        \"answer\": search_result.get(\"answer\", \"\"),\n",
    "        \"results\": search_result.get(\"results\", []),\n",
    "        \"search_metadata\": {\n",
    "            \"timestamp\": datetime.now().isoformat(),\n",
    "            \"query\": query\n",
    "        }\n",
    "    }\n",
    "    # metadata_parser = PydanticOutputParser(model_class=WebSearchResult)\n",
    "    # validated_results = metadata_parser.parse(ai_message=AIMessage(content=str(formatted_results)))\n",
    "    validated_results = WebSearchResult(**formatted_results)\n",
    "\n",
    "    return validated_results"
   ]
  },
  {
   "cell_type": "code",
   "execution_count": 56,
   "id": "a80af3a8",
   "metadata": {},
   "outputs": [
    {
     "name": "stdout",
     "output_type": "stream",
     "text": [
      "{\n",
      "  \"answer\": \"Gran Turismo is a racing simulation video game series developed by Polyphony Digital and published by Sony. It is known for its realistic driving physics and detailed vehicle models. The series has launched eight mainline titles and sold over 90 million units worldwide.\",\n",
      "  \"results\": [\n",
      "    {\n",
      "      \"url\": \"https://playstation-studios.fandom.com/wiki/Gran_Turismo_(series)\",\n",
      "      \"title\": \"Gran Turismo (series) | PlayStation Studios Wiki - Fandom\",\n",
      "      \"content\": \"Gran Turismo, also known as GT, is a series of racing simulation video games created and developed by Polyphony Digital, and published by Sony Interactive Entertainment for the PlayStation brand of consoles. Originally released for the very first PlayStation \\\"PlayStation (console)\\\"), Gran Turismo is among Sony's oldest franchises and its longest-running franchise, having launched in 1997. [...] The Gran Turismo series received significant praise since its inception, and has been credited with establishing Polyphony Digital as its own entity, as well as being considered a pioneer in the racing genre; games in the series are generally acclaimed for their visuals, attention to detail, controls and content. The first four titles in the series received critical acclaim, while later mainline installment received more divisive reception due to changes and alterations from earlier titles. [...] Gran Turismo was created by Polyphony Digital head and founder, Kazunori Yamauchi, who has produced all games in the series. To date the main series of Gran Turismo includes eight mainline titles, of which seven are numbered. Spin-offs include a variety of Concept and Prologue titles that serve as early introductions to full-fledged main games, as well as a title for PlayStation Portable. The series also includes an upcoming feature-length film \\\"Gran Turismo (film)\\\").\",\n",
      "      \"score\": 0.82254606,\n",
      "      \"raw_content\": null\n",
      "    },\n",
      "    {\n",
      "      \"url\": \"https://en.wikipedia.org/wiki/Gran_Turismo_(series)\",\n",
      "      \"title\": \"Gran Turismo (series) - Wikipedia\",\n",
      "      \"content\": \"Gran Turismo (GT) is a series of sim racing video games developed by Polyphony Digital. Released for PlayStation systems, Gran Turismo games are intended to emulate the appearance and performance of a large selection of vehicles, most of which are licensed reproductions of real-world automobiles. Since the franchise's debut in 1997, over 90 million units have been sold worldwide, making it the highest selling video game franchise under the PlayStation brand. [...] Gran Turismo is one of PlayStation's most successful franchises, having garnered both commercial success and critical acclaim. The first title \\\"Gran Turismo (1997 video game)\\\") in the series was the highest selling game for the original PlayStation, while four subsequent installments have been among the top-three best-selling games for their respective consoles. Multiple entries in the series have been ranked among the greatest video games of all time. In 2023, the series received a film [...] The Gran Turismo series is known for its accurate driving physics emulation, a large number of licensed vehicles, attention to vehicle detail, the ability to tune a car's performance, and realistic graphics. Its physics emulation includes \\\"real-world dynamics such as weight transfer, suspension response, and understeer/oversteer characteristics\\\". The Sim has been a flagship for the PlayStation console's graphics capabilities, and is often used to demonstrate the system's potential. It has a\",\n",
      "      \"score\": 0.8131201,\n",
      "      \"raw_content\": null\n",
      "    },\n",
      "    {\n",
      "      \"url\": \"https://www.playstation.com/en-us/gran-turismo/\",\n",
      "      \"title\": \"Discover Gran Turismo | PlayStation (US)\",\n",
      "      \"content\": \"Gran Turismo was created from the inspiration of the rich culture of automobiles that had grown throughout the 20th century.\\n\\n### Gran Turismo and car culture\\n\\nGran Turismo was designed to awaken people to the allure of cars. Even without any prior knowledge about cars, players would find appreciation and joy in controlling, owning, designing and tuning them.\\n\\n### Technological innovation [...] The Vision Gran Turismo project started with a single question from Gran Turismo founder Kazunori Yamauchi: “Would you design your rendition of the ideal GT for us?” GT stands for Gran Turismo or Grand Tourer (where the game got its name from) which describes a sporty performance car. Many manufacturers accepted our offer, and now there are many “ideal” Grand Touring cars represented in the game. [...] gran turismo background\\ngran turismo icon logo\\n\\n# Discover Gran Turismo\\n\\nCelebrating the 25th anniversary of The Real Driving Simulator.\\n\\nA screenshot of Gran Turismo 7 from inside the car driving along a corner with competing cars ahead of the player\\nKazunori Yamauchi - President of Polyphony Digital\\n\\n#### \\\"Gran Turismo is an integrated simulator for enjoying life with cars. It's a sandbox where players can freely discover experiences on their own.\",\n",
      "      \"score\": 0.6141863,\n",
      "      \"raw_content\": null\n",
      "    },\n",
      "    {\n",
      "      \"url\": \"https://en.wikipedia.org/wiki/Gran_Turismo_(video_game)\",\n",
      "      \"title\": \"Gran Turismo - Wikipedia\",\n",
      "      \"content\": \"Wikipedia\\nThe Free Encyclopedia\\n\\n## Contents\\n\\n# Gran Turismo\\n\\nGran Turismo may refer to:\\n\\n## Cars\\n\\n## Video games\\n\\n## Film\\n\\n## Music\\n\\n## See also\\n\\nDisambiguation icon\\n\\nWikimedia Foundation\\nPowered by MediaWiki\",\n",
      "      \"score\": 0.5440511,\n",
      "      \"raw_content\": null\n",
      "    },\n",
      "    {\n",
      "      \"url\": \"https://www.giantbomb.com/gran-turismo/3025-263/games/\",\n",
      "      \"title\": \"Games - Gran Turismo - Giant Bomb\",\n",
      "      \"content\": \"Featuring Korean Hyundai cars for the first time.\\n\\n### Gran Turismo Concept: 2001 Tokyo\\n\\n### Gran Turismo 3 A-Spec\\n\\nGran Turismo 3: A-Spec is a driving simulator released for the Playstation 2 which garnered critical acclaim upon its release in 2001.\\n\\n### Gran Turismo 2\\n\\nGran Turismo 2 is a realistic driving simulator for the PlayStation featuring over 600 vehicles.\\n\\n### Gran Turismo\\n\\nPolyphony Digital's seminal racing simulator for the PlayStation.\\n\\n#### Top Rated Lists for Gran Turismo [...] ## Games\\n\\n### Gran Turismo 7\\n\\nThe seventh main entry in Polyphony Digital's driving simulator franchise.\\n\\n### Gran Turismo Sport\\n\\nPolyphony Digital's driving simulator comes to PlayStation 4 with a strong focus on competitive online multiplayer.\\n\\n### Gran Turismo 6\\n\\nThe sixth entry in PlayStation's flagship racing series, Gran Turismo 6 hopes to bring a better, richer driving experience, including 1200 cars and new features like improved car personalization.\\n\\n### Gran Turismo 5 [...] Gran Turismo 5 is the fifth edition in the long running racing game series by Polyphony Digital. The game sports over 1000 vehicles, damage modeling on race cars, a dedicated television channel, lots of races, 16 player online multiplayer, and active weather.\\n\\n### Gran Turismo\\n\\nThis is the first entry in the Gran Turismo racing series to be released on a handheld system.\\n\\n### Gran Turismo 5 Prologue Spec III\",\n",
      "      \"score\": 0.4800161,\n",
      "      \"raw_content\": null\n",
      "    }\n",
      "  ],\n",
      "  \"search_metadata\": {\n",
      "    \"timestamp\": \"2025-07-30T06:24:25.145621\",\n",
      "    \"query\": \"Tell me about Gran Turismo\"\n",
      "  }\n",
      "}\n"
     ]
    }
   ],
   "source": [
    "# To test the function\n",
    "web_search_response = game_web_search(query)\n",
    "print(web_search_response.model_dump_json(indent=2))"
   ]
  },
  {
   "cell_type": "markdown",
   "id": "df844b3b",
   "metadata": {},
   "source": [
    "### Creating and invoking the Agent"
   ]
  },
  {
   "cell_type": "code",
   "execution_count": 25,
   "id": "31c56281",
   "metadata": {},
   "outputs": [],
   "source": [
    "tools = [retrieve_game, evaluate_retrieval, game_web_search]\n",
    "\n",
    "instructions = f\"\"\"\n",
    "    You are a helpful assistant that answers questions about video games. \n",
    "    Users will ask you about video games, including names, contents, publishing years, etc. \n",
    "    You should first check whether an answer to the question is possible based on your knowledge (stored as a VectorDB). \n",
    "    To this end, you have two tools, `retrieve_game` to retrieve knowledge from the DB and `evaluate_retrieval` to evaluate whether the retrieved knowledge has content to answer the question.\n",
    "    After retrieving from the internal database, always check whether the retrieved knowledge is useful to answer the query via the evaluate_retrieval tool.\n",
    "    If the knowledge retrieved does not answer the question, use the third tool `game_web_search` to perform a web search to hopefully find the answer. \n",
    "    In your final answer, always state whether the answer was from the curated database or from the open web, and if the latter, state the highest-ranked URL you found in your answer.\n",
    "    Do not make up facts.\n",
    "\n",
    "    EXAMPLE for final answer: \n",
    "    Mario Kart is a racing game developed for the Nintendo GameCube. This information was retrieved from the internal database. \n",
    "\"\"\"\n",
    "\n",
    "web_agent = Agent(\n",
    "    model_name=\"gpt-4.1-nano\",\n",
    "    instructions=instructions,\n",
    "    tools=tools,\n",
    "    api_key=OPENAI_API_KEY,\n",
    "    base_url=OPENAI_BASE_URL,\n",
    ")"
   ]
  },
  {
   "cell_type": "code",
   "execution_count": 11,
   "id": "1c285ebb",
   "metadata": {},
   "outputs": [],
   "source": [
    "def print_messages(messages: List[BaseMessage]):\n",
    "    for m in messages:\n",
    "        print(f\" -> (role = {m.role}, content = {m.content}, tool_calls = {getattr(m, 'tool_calls', None)})\")"
   ]
  },
  {
   "cell_type": "code",
   "execution_count": 26,
   "id": "0ec23893",
   "metadata": {},
   "outputs": [
    {
     "name": "stdout",
     "output_type": "stream",
     "text": [
      "[StateMachine] Starting: __entry__\n",
      "[StateMachine] Executing step: message_prep\n",
      "[StateMachine] Executing step: llm_processor\n",
      "[StateMachine] Executing step: tool_executor\n",
      "[StateMachine] Executing step: llm_processor\n",
      "[StateMachine] Executing step: tool_executor\n",
      "[StateMachine] Executing step: llm_processor\n",
      "[StateMachine] Terminating: __termination__\n",
      "\n",
      "Messages from run 1:\n",
      " -> (role = system, content = \n",
      "    You are a helpful assistant that answers questions about video games. \n",
      "    Users will ask you about video games, including names, contents, publishing years, etc. \n",
      "    You should first check whether an answer to the question is possible based on your knowledge (stored as a VectorDB). \n",
      "    To this end, you have two tools, `retrieve_game` to retrieve knowledge from the DB and `evaluate_retrieval` to evaluate whether the retrieved knowledge has content to answer the question.\n",
      "    After retrieving from the internal database, always check whether the retrieved knowledge is useful to answer the query via the evaluate_retrieval tool.\n",
      "    If the knowledge retrieved does not answer the question, use the third tool `game_web_search` to perform a web search to hopefully find the answer. \n",
      "    In your final answer, always state whether the answer was from the curated database or from the open web, and if the latter, state the highest-ranked URL you found in your answer.\n",
      "    Do not make up facts.\n",
      "\n",
      "    EXAMPLE for final answer: \n",
      "    Mario Kart is a racing game developed for the Nintendo GameCube. This information was retrieved from the internal database. \n",
      ", tool_calls = None)\n",
      " -> (role = user, content = When were Pokémon Gold and Silver released?, tool_calls = None)\n",
      " -> (role = assistant, content = None, tool_calls = [ChatCompletionMessageToolCall(id='call_3jUFA0zfgQnSUO00LmNyuPg9', function=Function(arguments='{\"query\":\"Pokémon Gold and Silver\"}', name='retrieve_game'), type='function')])\n",
      " -> (role = tool, content = \"['[Game Boy Color] Pok\\u00e9mon Gold and Silver (1999, Nintendo) - Second-generation Pok\\u00e9mon games introducing new regions, Pok\\u00e9mon, and gameplay mechanics.', '[Game Boy Advance] Pok\\u00e9mon Ruby and Sapphire (2002, Nintendo) - Third-generation Pok\\u00e9mon games set in the Hoenn region, featuring new Pok\\u00e9mon and double battles.', '[Super Nintendo Entertainment System (SNES)] Super Mario World (1990, Nintendo) - A classic platformer where Mario embarks on a quest to save Princess Toadstool and Dinosaur Land from Bowser.', \\\"[Nintendo 64] Super Mario 64 (1996, Nintendo) - A groundbreaking 3D platformer that set new standards for the genre, featuring Mario's quest to rescue Princess Peach.\\\", '[GameCube] Super Smash Bros. Melee (2001, Nintendo) - A crossover fighting game featuring characters from various Nintendo franchises battling it out in dynamic arenas.']\", tool_calls = None)\n",
      " -> (role = assistant, content = None, tool_calls = [ChatCompletionMessageToolCall(id='call_4lKG8gTP5GAwIyfZEwJAbZ96', function=Function(arguments='{\"question\":\"When were Pokémon Gold and Silver released?\",\"retrieved_docs\":\"[\\'[Game Boy Color] Pok\\\\u0000e9mon Gold and Silver (1999, Nintendo) - Second-generation Pok\\\\u0000e9mon games introducing new regions, Pok\\\\u0000e9mon, and gameplay mechanics.\\', \\'[Game Boy Advance] Pok\\\\u0000e9mon Ruby and Sapphire (2002, Nintendo) - Third-generation Pok\\\\u0000e9mon games set in the Hoenn region, featuring new Pok\\\\u0000e9mon and double battles.\\', \\'[Super Nintendo Entertainment System (SNES)] Super Mario World (1990, Nintendo) - A classic platformer where Mario embarks on a quest to save Princess Toadstool and Dinosaur Land from Bowser.\\', \\\\\"[Nintendo 64] Super Mario 64 (1996, Nintendo) - A groundbreaking 3D platformer that set new standards for the genre, featuring Mario\\'s quest to rescue Princess Peach.\\\\\", \\'[GameCube] Super Smash Bros. Melee (2001, Nintendo) - A crossover fighting game featuring characters from various Nintendo franchises battling it out in dynamic arenas.\\']\"}', name='evaluate_retrieval'), type='function')])\n",
      " -> (role = tool, content = \"useful=True description=\\\"The retrieved documents include a specific mention of Pok\\u00e9mon Gold and Silver, noting their release year as 1999 and associating them with the Nintendo platform. This directly answers the user's query about the release date of Pok\\u00e9mon Gold and Silver, providing the necessary information to respond accurately.\\\"\", tool_calls = None)\n",
      " -> (role = assistant, content = Pokémon Gold and Silver were released in 1999 for the Game Boy Color. This information was retrieved from the internal database., tool_calls = None)\n"
     ]
    }
   ],
   "source": [
    "query1=\"When were Pokémon Gold and Silver released?\"\n",
    "\n",
    "run1 = web_agent.invoke(\n",
    "    query=query1\n",
    ")\n",
    "\n",
    "print(\"\\nMessages from run 1:\")\n",
    "messages = run1.get_final_state()[\"messages\"]\n",
    "print_messages(messages)\n",
    "\n"
   ]
  },
  {
   "cell_type": "code",
   "execution_count": 27,
   "id": "ba8d3b7c",
   "metadata": {},
   "outputs": [
    {
     "name": "stdout",
     "output_type": "stream",
     "text": [
      "[StateMachine] Starting: __entry__\n",
      "[StateMachine] Executing step: message_prep\n",
      "[StateMachine] Executing step: llm_processor\n",
      "[StateMachine] Executing step: tool_executor\n",
      "[StateMachine] Executing step: llm_processor\n",
      "[StateMachine] Executing step: tool_executor\n",
      "[StateMachine] Executing step: llm_processor\n",
      "[StateMachine] Terminating: __termination__\n",
      "\n",
      "Messages from run 2:\n",
      " -> (role = system, content = \n",
      "    You are a helpful assistant that answers questions about video games. \n",
      "    Users will ask you about video games, including names, contents, publishing years, etc. \n",
      "    You should first check whether an answer to the question is possible based on your knowledge (stored as a VectorDB). \n",
      "    To this end, you have two tools, `retrieve_game` to retrieve knowledge from the DB and `evaluate_retrieval` to evaluate whether the retrieved knowledge has content to answer the question.\n",
      "    After retrieving from the internal database, always check whether the retrieved knowledge is useful to answer the query via the evaluate_retrieval tool.\n",
      "    If the knowledge retrieved does not answer the question, use the third tool `game_web_search` to perform a web search to hopefully find the answer. \n",
      "    In your final answer, always state whether the answer was from the curated database or from the open web, and if the latter, state the highest-ranked URL you found in your answer.\n",
      "    Do not make up facts.\n",
      "\n",
      "    EXAMPLE for final answer: \n",
      "    Mario Kart is a racing game developed for the Nintendo GameCube. This information was retrieved from the internal database. \n",
      ", tool_calls = None)\n",
      " -> (role = user, content = When were Pokémon Gold and Silver released?, tool_calls = None)\n",
      " -> (role = assistant, content = None, tool_calls = [ChatCompletionMessageToolCall(id='call_3jUFA0zfgQnSUO00LmNyuPg9', function=Function(arguments='{\"query\":\"Pokémon Gold and Silver\"}', name='retrieve_game'), type='function')])\n",
      " -> (role = tool, content = \"['[Game Boy Color] Pok\\u00e9mon Gold and Silver (1999, Nintendo) - Second-generation Pok\\u00e9mon games introducing new regions, Pok\\u00e9mon, and gameplay mechanics.', '[Game Boy Advance] Pok\\u00e9mon Ruby and Sapphire (2002, Nintendo) - Third-generation Pok\\u00e9mon games set in the Hoenn region, featuring new Pok\\u00e9mon and double battles.', '[Super Nintendo Entertainment System (SNES)] Super Mario World (1990, Nintendo) - A classic platformer where Mario embarks on a quest to save Princess Toadstool and Dinosaur Land from Bowser.', \\\"[Nintendo 64] Super Mario 64 (1996, Nintendo) - A groundbreaking 3D platformer that set new standards for the genre, featuring Mario's quest to rescue Princess Peach.\\\", '[GameCube] Super Smash Bros. Melee (2001, Nintendo) - A crossover fighting game featuring characters from various Nintendo franchises battling it out in dynamic arenas.']\", tool_calls = None)\n",
      " -> (role = assistant, content = None, tool_calls = [ChatCompletionMessageToolCall(id='call_4lKG8gTP5GAwIyfZEwJAbZ96', function=Function(arguments='{\"question\":\"When were Pokémon Gold and Silver released?\",\"retrieved_docs\":\"[\\'[Game Boy Color] Pok\\\\u0000e9mon Gold and Silver (1999, Nintendo) - Second-generation Pok\\\\u0000e9mon games introducing new regions, Pok\\\\u0000e9mon, and gameplay mechanics.\\', \\'[Game Boy Advance] Pok\\\\u0000e9mon Ruby and Sapphire (2002, Nintendo) - Third-generation Pok\\\\u0000e9mon games set in the Hoenn region, featuring new Pok\\\\u0000e9mon and double battles.\\', \\'[Super Nintendo Entertainment System (SNES)] Super Mario World (1990, Nintendo) - A classic platformer where Mario embarks on a quest to save Princess Toadstool and Dinosaur Land from Bowser.\\', \\\\\"[Nintendo 64] Super Mario 64 (1996, Nintendo) - A groundbreaking 3D platformer that set new standards for the genre, featuring Mario\\'s quest to rescue Princess Peach.\\\\\", \\'[GameCube] Super Smash Bros. Melee (2001, Nintendo) - A crossover fighting game featuring characters from various Nintendo franchises battling it out in dynamic arenas.\\']\"}', name='evaluate_retrieval'), type='function')])\n",
      " -> (role = tool, content = \"useful=True description=\\\"The retrieved documents include a specific mention of Pok\\u00e9mon Gold and Silver, noting their release year as 1999 and associating them with the Nintendo platform. This directly answers the user's query about the release date of Pok\\u00e9mon Gold and Silver, providing the necessary information to respond accurately.\\\"\", tool_calls = None)\n",
      " -> (role = assistant, content = Pokémon Gold and Silver were released in 1999 for the Game Boy Color. This information was retrieved from the internal database., tool_calls = None)\n",
      " -> (role = user, content = Which one was the first 3D platformer Mario game?, tool_calls = None)\n",
      " -> (role = assistant, content = None, tool_calls = [ChatCompletionMessageToolCall(id='call_ZxA7yllsH0eszdi0OaSGD3Et', function=Function(arguments='{\"query\":\"first 3D platformer Mario game\"}', name='retrieve_game'), type='function')])\n",
      " -> (role = tool, content = \"[\\\"[Nintendo 64] Super Mario 64 (1996, Nintendo) - A groundbreaking 3D platformer that set new standards for the genre, featuring Mario's quest to rescue Princess Peach.\\\", '[Super Nintendo Entertainment System (SNES)] Super Mario World (1990, Nintendo) - A classic platformer where Mario embarks on a quest to save Princess Toadstool and Dinosaur Land from Bowser.', '[Nintendo Switch] Mario Kart 8 Deluxe (2017, Nintendo) - An enhanced version of Mario Kart 8, featuring new characters, tracks, and improved gameplay mechanics.', '[GameCube] Super Smash Bros. Melee (2001, Nintendo) - A crossover fighting game featuring characters from various Nintendo franchises battling it out in dynamic arenas.', '[Game Boy Color] Pok\\u00e9mon Gold and Silver (1999, Nintendo) - Second-generation Pok\\u00e9mon games introducing new regions, Pok\\u00e9mon, and gameplay mechanics.']\", tool_calls = None)\n",
      " -> (role = assistant, content = None, tool_calls = [ChatCompletionMessageToolCall(id='call_5oBn7VGqIIa9TFAh1hKWUwL3', function=Function(arguments='{\"question\":\"Which one was the first 3D platformer Mario game?\",\"retrieved_docs\":\"[\\\\\"[Nintendo 64] Super Mario 64 (1996, Nintendo) - A groundbreaking 3D platformer that set new standards for the genre, featuring Mario\\'s quest to rescue Princess Peach.\\\\\", \\'[Super Nintendo Entertainment System (SNES)] Super Mario World (1990, Nintendo) - A classic platformer where Mario embarks on a quest to save Princess Toadstool and Dinosaur Land from Bowser.\\', \\'[Nintendo Switch] Mario Kart 8 Deluxe (2017, Nintendo) - An enhanced version of Mario Kart 8, featuring new characters, tracks, and improved gameplay mechanics.\\', \\'[GameCube] Super Smash Bros. Melee (2001, Nintendo) - A crossover fighting game featuring characters from various Nintendo franchises battling it out in dynamic arenas.\\', \\'[Game Boy Color] Pok\\\\u0000e9mon Gold and Silver (1999, Nintendo) - Second-generation Pok\\\\u0000e9mon games introducing new regions, Pok\\\\u0000e9mon, and gameplay mechanics.\\']\"}', name='evaluate_retrieval'), type='function')])\n",
      " -> (role = tool, content = \"useful=True description=\\\"The retrieved documents include 'Super Mario 64' for the Nintendo 64, which is widely recognized as the first 3D platformer featuring Mario. The other documents mention earlier Mario games that are 2D platformers, such as 'Super Mario World' for the SNES. Therefore, the documents are sufficient to identify 'Super Mario 64' as the first 3D platformer Mario game, making them useful for answering the query.\\\"\", tool_calls = None)\n",
      " -> (role = assistant, content = The first 3D platformer Mario game was Super Mario 64, released in 1996 for the Nintendo 64. This information was retrieved from the internal database., tool_calls = None)\n"
     ]
    }
   ],
   "source": [
    "query2=\"Which one was the first 3D platformer Mario game?\"\n",
    "run2 = web_agent.invoke(\n",
    "    query=query2\n",
    ")\n",
    "\n",
    "print(\"\\nMessages from run 2:\")\n",
    "messages = run2.get_final_state()[\"messages\"]\n",
    "print_messages(messages)"
   ]
  },
  {
   "cell_type": "code",
   "execution_count": 28,
   "id": "ef1bca25",
   "metadata": {},
   "outputs": [
    {
     "name": "stdout",
     "output_type": "stream",
     "text": [
      "[StateMachine] Starting: __entry__\n",
      "[StateMachine] Executing step: message_prep\n",
      "[StateMachine] Executing step: llm_processor\n",
      "[StateMachine] Executing step: tool_executor\n",
      "[StateMachine] Executing step: llm_processor\n",
      "[StateMachine] Executing step: tool_executor\n",
      "[StateMachine] Executing step: llm_processor\n",
      "[StateMachine] Executing step: tool_executor\n",
      "[StateMachine] Executing step: llm_processor\n",
      "[StateMachine] Terminating: __termination__\n",
      "\n",
      "Messages from run 3:\n",
      " -> (role = system, content = \n",
      "    You are a helpful assistant that answers questions about video games. \n",
      "    Users will ask you about video games, including names, contents, publishing years, etc. \n",
      "    You should first check whether an answer to the question is possible based on your knowledge (stored as a VectorDB). \n",
      "    To this end, you have two tools, `retrieve_game` to retrieve knowledge from the DB and `evaluate_retrieval` to evaluate whether the retrieved knowledge has content to answer the question.\n",
      "    After retrieving from the internal database, always check whether the retrieved knowledge is useful to answer the query via the evaluate_retrieval tool.\n",
      "    If the knowledge retrieved does not answer the question, use the third tool `game_web_search` to perform a web search to hopefully find the answer. \n",
      "    In your final answer, always state whether the answer was from the curated database or from the open web, and if the latter, state the highest-ranked URL you found in your answer.\n",
      "    Do not make up facts.\n",
      "\n",
      "    EXAMPLE for final answer: \n",
      "    Mario Kart is a racing game developed for the Nintendo GameCube. This information was retrieved from the internal database. \n",
      ", tool_calls = None)\n",
      " -> (role = user, content = When were Pokémon Gold and Silver released?, tool_calls = None)\n",
      " -> (role = assistant, content = None, tool_calls = [ChatCompletionMessageToolCall(id='call_3jUFA0zfgQnSUO00LmNyuPg9', function=Function(arguments='{\"query\":\"Pokémon Gold and Silver\"}', name='retrieve_game'), type='function')])\n",
      " -> (role = tool, content = \"['[Game Boy Color] Pok\\u00e9mon Gold and Silver (1999, Nintendo) - Second-generation Pok\\u00e9mon games introducing new regions, Pok\\u00e9mon, and gameplay mechanics.', '[Game Boy Advance] Pok\\u00e9mon Ruby and Sapphire (2002, Nintendo) - Third-generation Pok\\u00e9mon games set in the Hoenn region, featuring new Pok\\u00e9mon and double battles.', '[Super Nintendo Entertainment System (SNES)] Super Mario World (1990, Nintendo) - A classic platformer where Mario embarks on a quest to save Princess Toadstool and Dinosaur Land from Bowser.', \\\"[Nintendo 64] Super Mario 64 (1996, Nintendo) - A groundbreaking 3D platformer that set new standards for the genre, featuring Mario's quest to rescue Princess Peach.\\\", '[GameCube] Super Smash Bros. Melee (2001, Nintendo) - A crossover fighting game featuring characters from various Nintendo franchises battling it out in dynamic arenas.']\", tool_calls = None)\n",
      " -> (role = assistant, content = None, tool_calls = [ChatCompletionMessageToolCall(id='call_4lKG8gTP5GAwIyfZEwJAbZ96', function=Function(arguments='{\"question\":\"When were Pokémon Gold and Silver released?\",\"retrieved_docs\":\"[\\'[Game Boy Color] Pok\\\\u0000e9mon Gold and Silver (1999, Nintendo) - Second-generation Pok\\\\u0000e9mon games introducing new regions, Pok\\\\u0000e9mon, and gameplay mechanics.\\', \\'[Game Boy Advance] Pok\\\\u0000e9mon Ruby and Sapphire (2002, Nintendo) - Third-generation Pok\\\\u0000e9mon games set in the Hoenn region, featuring new Pok\\\\u0000e9mon and double battles.\\', \\'[Super Nintendo Entertainment System (SNES)] Super Mario World (1990, Nintendo) - A classic platformer where Mario embarks on a quest to save Princess Toadstool and Dinosaur Land from Bowser.\\', \\\\\"[Nintendo 64] Super Mario 64 (1996, Nintendo) - A groundbreaking 3D platformer that set new standards for the genre, featuring Mario\\'s quest to rescue Princess Peach.\\\\\", \\'[GameCube] Super Smash Bros. Melee (2001, Nintendo) - A crossover fighting game featuring characters from various Nintendo franchises battling it out in dynamic arenas.\\']\"}', name='evaluate_retrieval'), type='function')])\n",
      " -> (role = tool, content = \"useful=True description=\\\"The retrieved documents include a specific mention of Pok\\u00e9mon Gold and Silver, noting their release year as 1999 and associating them with the Nintendo platform. This directly answers the user's query about the release date of Pok\\u00e9mon Gold and Silver, providing the necessary information to respond accurately.\\\"\", tool_calls = None)\n",
      " -> (role = assistant, content = Pokémon Gold and Silver were released in 1999 for the Game Boy Color. This information was retrieved from the internal database., tool_calls = None)\n",
      " -> (role = user, content = Which one was the first 3D platformer Mario game?, tool_calls = None)\n",
      " -> (role = assistant, content = None, tool_calls = [ChatCompletionMessageToolCall(id='call_ZxA7yllsH0eszdi0OaSGD3Et', function=Function(arguments='{\"query\":\"first 3D platformer Mario game\"}', name='retrieve_game'), type='function')])\n",
      " -> (role = tool, content = \"[\\\"[Nintendo 64] Super Mario 64 (1996, Nintendo) - A groundbreaking 3D platformer that set new standards for the genre, featuring Mario's quest to rescue Princess Peach.\\\", '[Super Nintendo Entertainment System (SNES)] Super Mario World (1990, Nintendo) - A classic platformer where Mario embarks on a quest to save Princess Toadstool and Dinosaur Land from Bowser.', '[Nintendo Switch] Mario Kart 8 Deluxe (2017, Nintendo) - An enhanced version of Mario Kart 8, featuring new characters, tracks, and improved gameplay mechanics.', '[GameCube] Super Smash Bros. Melee (2001, Nintendo) - A crossover fighting game featuring characters from various Nintendo franchises battling it out in dynamic arenas.', '[Game Boy Color] Pok\\u00e9mon Gold and Silver (1999, Nintendo) - Second-generation Pok\\u00e9mon games introducing new regions, Pok\\u00e9mon, and gameplay mechanics.']\", tool_calls = None)\n",
      " -> (role = assistant, content = None, tool_calls = [ChatCompletionMessageToolCall(id='call_5oBn7VGqIIa9TFAh1hKWUwL3', function=Function(arguments='{\"question\":\"Which one was the first 3D platformer Mario game?\",\"retrieved_docs\":\"[\\\\\"[Nintendo 64] Super Mario 64 (1996, Nintendo) - A groundbreaking 3D platformer that set new standards for the genre, featuring Mario\\'s quest to rescue Princess Peach.\\\\\", \\'[Super Nintendo Entertainment System (SNES)] Super Mario World (1990, Nintendo) - A classic platformer where Mario embarks on a quest to save Princess Toadstool and Dinosaur Land from Bowser.\\', \\'[Nintendo Switch] Mario Kart 8 Deluxe (2017, Nintendo) - An enhanced version of Mario Kart 8, featuring new characters, tracks, and improved gameplay mechanics.\\', \\'[GameCube] Super Smash Bros. Melee (2001, Nintendo) - A crossover fighting game featuring characters from various Nintendo franchises battling it out in dynamic arenas.\\', \\'[Game Boy Color] Pok\\\\u0000e9mon Gold and Silver (1999, Nintendo) - Second-generation Pok\\\\u0000e9mon games introducing new regions, Pok\\\\u0000e9mon, and gameplay mechanics.\\']\"}', name='evaluate_retrieval'), type='function')])\n",
      " -> (role = tool, content = \"useful=True description=\\\"The retrieved documents include 'Super Mario 64' for the Nintendo 64, which is widely recognized as the first 3D platformer featuring Mario. The other documents mention earlier Mario games that are 2D platformers, such as 'Super Mario World' for the SNES. Therefore, the documents are sufficient to identify 'Super Mario 64' as the first 3D platformer Mario game, making them useful for answering the query.\\\"\", tool_calls = None)\n",
      " -> (role = assistant, content = The first 3D platformer Mario game was Super Mario 64, released in 1996 for the Nintendo 64. This information was retrieved from the internal database., tool_calls = None)\n",
      " -> (role = user, content = Was Mortal Kombat X realeased for Playstation 5?, tool_calls = None)\n",
      " -> (role = assistant, content = None, tool_calls = [ChatCompletionMessageToolCall(id='call_JwDJNYtMLhRaRWzdvp4r1js4', function=Function(arguments='{\"query\":\"Mortal Kombat X\"}', name='retrieve_game'), type='function')])\n",
      " -> (role = tool, content = \"[\\\"[Xbox Series X|S] Halo Infinite (2021, Xbox Game Studios) - The latest installment in the Halo franchise, featuring Master Chief's return in a new open-world setting.\\\", '[GameCube] Super Smash Bros. Melee (2001, Nintendo) - A crossover fighting game featuring characters from various Nintendo franchises battling it out in dynamic arenas.', '[Nintendo Switch] Mario Kart 8 Deluxe (2017, Nintendo) - An enhanced version of Mario Kart 8, featuring new characters, tracks, and improved gameplay mechanics.', '[Xbox 360] Kinect Adventures! (2010, Microsoft Game Studios) - A collection of mini-games designed to showcase the capabilities of the Kinect motion sensor.', '[Xbox One] Minecraft (2014, Mojang Studios) - A sandbox game that allows players to build and explore infinite worlds, fostering creativity and adventure.']\", tool_calls = None)\n",
      " -> (role = assistant, content = None, tool_calls = [ChatCompletionMessageToolCall(id='call_UnkGAybPQaYfwf5AXC52rFYQ', function=Function(arguments='{\"question\":\"Was Mortal Kombat X released for PlayStation 5?\",\"retrieved_docs\":\"[\\\\\"[Xbox Series X|S] Halo Infinite (2021, Xbox Game Studios) - The latest installment in the Halo franchise, featuring Master Chief\\'s return in a new open-world setting.\\\\\", \\'[GameCube] Super Smash Bros. Melee (2001, Nintendo) - A crossover fighting game featuring characters from various Nintendo franchises battling it out in dynamic arenas.\\', \\'[Nintendo Switch] Mario Kart 8 Deluxe (2017, Nintendo) - An enhanced version of Mario Kart 8, featuring new characters, tracks, and improved gameplay mechanics.\\', \\'[Xbox 360] Kinect Adventures! (2010, Microsoft Game Studios) - A collection of mini-games designed to showcase the capabilities of the Kinect motion sensor.\\', \\'[Xbox One] Minecraft (2014, Mojang Studios) - A sandbox game that allows players to build and explore infinite worlds, fostering creativity and adventure.\\']\"}', name='evaluate_retrieval'), type='function')])\n",
      " -> (role = tool, content = \"useful=False description=\\\"The retrieved documents do not mention Mortal Kombat X or its release platforms, including PlayStation 5. They only list other games for different consoles and do not provide any information about Mortal Kombat X's availability or release details. Therefore, these sources are not useful for answering the user's query about the release of Mortal Kombat X for PlayStation 5.\\\"\", tool_calls = None)\n",
      " -> (role = assistant, content = None, tool_calls = [ChatCompletionMessageToolCall(id='call_o81ejUOMVX7dXzujW9JVxwvB', function=Function(arguments='{\"query\":\"Mortal Kombat X release for PlayStation 5\"}', name='game_web_search'), type='function')])\n",
      " -> (role = tool, content = \"answer='Mortal Kombat X was released for PlayStation 4 in 2015 and is backward compatible on PlayStation 5. It is available on PS5.' results=[{'url': 'https://www.youtube.com/watch?v=9Dto2mjnliA', 'title': 'PlayStation 5 | Mortal Kombat X | Backwards compatible test', 'content': \\\"hey guys and girls and thank you for watching another episode of the PlayStation tester my name is Maurice today we're getting a look at Mortal Kombat X on the PlayStation 5 so this is still a PlayStation 4 game that runs backwards compatible on your PlayStation 5 so without further Ado let's just dive in first of all let's see how much data this game is and that's only 44.89 GB it's version 1.16 and um I've got it installed on my internal SSD so in terms of uh loading times it should be good [...] come on oh my [Music] goodness lack Focus ah pancakes l k wins you will not be remembered round let's see how do you do R2 and up right trigger well I've got one oh pancakes oh that's got to hurt o love it finish him here we go now he has a split personality WIS fatality oh my goodness is insane funny but insane yeah you guys this is Mortal Kombat X on the PlayStation 5 and like I said if you can get it cheap it's a lot of fun thank you for watching hope you had fun hope see you guys soon in [...] 6 comments\\\\n### Transcript:\\\", 'score': 0.8127637, 'raw_content': None}, {'url': 'https://www.youtube.com/watch?v=HUNMZwDdrvY', 'title': 'Mortal Kombat X (PS5) 4K 60FPS HDR Gameplay - YouTube', 'content': 'Mortal Kombat X[b] is a 2015 fighting game developed by NetherRealm Studios and published by Warner Bros. Interactive Entertainment for Windows, PlayStation 4, and Xbox One. It is the tenth main installment in the Mortal Kombat series and a sequel to Mortal Kombat (2011), taking place 25 years later after the events of its predecessor. High Voltage Software developed the Windows version of the game, with Polish studio QLOC taking over the work on it shortly after the release of Kombat Pack 1. [...] \\u25b6TikTok @dieisongames\\\\n\\\\n\\u25b6Insta @dieisongames\\\\n\\\\n\\u25b62\\u00ba Channel\\\\n \\\\n\\\\nMortal Kombat X (PS5) 4K 60FPS HDR Gameplay\\\\nMortal Kombat X 4k Gameplay PS5\\\\n\\\\n#MortalKombatX #ps5 #playstation5 #ps5version \\\\n\\\\n-~-~~-~~~-~~-~-\\\\nPlease watch: \\\"Gran Turismo 7 (PS5) 4K 60FPS HDR Gameplay (Tomahawk 645 km/h)\\\"\\\\n\\\\n-~-~~-~~~-~~-~- [...] 2 comments\\\\n### Transcript:', 'score': 0.8014549, 'raw_content': None}, {'url': 'https://www.amazon.com/Mortal-Kombat-X-PS4-PlayStation-4/dp/B00KJG444I', 'title': 'Mortal Kombat X (PS4) : Video Games - Amazon.com', 'content': '3.   Image 30: Mortal Kombat 1 - PlayStation5Mortal Kombat 1 - PlayStation5WARNER BROS  _4.5 out of 5 stars_ 869  PlayStation 5  $28.00$28.00    Get it as soon as Tuesday, Jul 8  FREE Shipping on orders over $35 shipped by Amazon [...] Mortal Kombat XL (PS4)WARNER BROS  _4.7 out of 5 stars_ 3,018  PlayStation 4  $28.90$28.90    Get it as soon as Tuesday, Jul 8  FREE Shipping on orders over $35 shipped by Amazon   \\\\n2.   Image 29: Mortal Kombat 1 (PS5)Mortal Kombat 1 (PS5)WARNER BROS  _4.4 out of 5 stars_ 1,058  PlayStation 5  $28.75$28.75    Get it as soon as Tuesday, Jul 8  FREE Shipping on orders over $35 shipped by Amazon [...] 6.   Image 33: Gran Turismo 7 (PS5)Gran Turismo 7 (PS5)PlayStation  _4.6 out of 5 stars_ 3,515  PlayStation 5  -15%$39.99$39.99 Typical:$47.00    FREE Shipping', 'score': 0.7187726, 'raw_content': None}, {'url': 'https://en.wikipedia.org/wiki/Mortal_Kombat_X', 'title': 'Mortal Kombat X - Wikipedia', 'content': \\\"An upgraded version of _Mortal Kombat X_, titled _Mortal Kombat XL_,( was released on March 1, 2016, for PlayStation 4 and Xbox One, including all downloadable content characters from the two released Kombat Packs, almost all bonus alternate costumes available at the time of release, improved gameplay, and improved netcode. This edition was also released for Windows on October 4, 2016. A sequel, _Mortal Kombat 11_, was released on April 23, 2019, for Nintendo Switch, PlayStation 4, Windows, and [...] _Mortal Kombat X_ was released worldwide (except Germany) for PC, PlayStation 4, and Xbox One on April 14, 2015. For reasons relating to the initial refusal by the German USK to issue the game with an age rating, the official German release of _Mortal Kombat X_ was delayed until September 1, 2015. The game's _Kollector's Edition_ includes a figurine of Scorpion and the Gold Scorpion skin, as well as future access to Kombat Pack 1.( Simultaneously with the release of Kombat Pack 2 and _Mortal [...] 2015, in select Asian countries( and was officially launched worldwide on May 4, 2015.(\\\", 'score': 0.6999322, 'raw_content': None}, {'url': 'https://www.reddit.com/r/MortalKombat/comments/15can50/mortal_kombat_x_on_ps5/', 'title': 'Mortal Kombat X on PS5? : r/MortalKombat - Reddit', 'content': '/r/MortalKombat is the OFFICIAL subreddit of Mortal Kombat 1, released in September 2023, and a grass roots kommunity-run subreddit for the Mortal Kombat franchise. r/Mortal Kombat is the biggest Mortal Kombat fan resource on the internet, covering a wide range of MK culture and a premier destination for Mortal Kombat gameplay discussion, both casual and competitive! Mortal Kombat is the iconic fighting game franchise created by NetherRealm Studios, a Warner Bros. Games studio. [...] /r/MortalKombat is the OFFICIAL subreddit of Mortal Kombat 1, released in September 2023, and a grass roots kommunity-run subreddit for the Mortal Kombat franchise. r/Mortal Kombat is the biggest Mortal Kombat fan resource on the internet, covering a wide range of MK culture and a premier destination for Mortal Kombat gameplay discussion, both casual and competitive! Mortal Kombat is the iconic fighting game franchise created by NetherRealm Studios, a Warner Bros. Games studio. [...] /r/MortalKombat is the OFFICIAL subreddit of Mortal Kombat 1, released in September 2023, and a grass roots kommunity-run subreddit for the Mortal Kombat franchise. r/Mortal Kombat is the biggest Mortal Kombat fan resource on the internet, covering a wide range of MK culture and a premier destination for Mortal Kombat gameplay discussion, both casual and competitive! Mortal Kombat is the iconic fighting game franchise created by NetherRealm Studios, a Warner Bros. Games studio.', 'score': 0.69274646, 'raw_content': None}] search_metadata=MetaData(timestamp='2025-07-30T14:34:27.959470', query='Mortal Kombat X release for PlayStation 5')\", tool_calls = None)\n",
      " -> (role = assistant, content = Mortal Kombat X was initially released for PlayStation 4 in 2015. It is backward compatible and available for PlayStation 5. This information was confirmed by multiple sources, including gameplay videos and product listings, indicating that the game can be played on PS5 through backward compatibility., tool_calls = None)\n"
     ]
    }
   ],
   "source": [
    "query3=\"Was Mortal Kombat X realeased for Playstation 5?\"\n",
    "\n",
    "run3 = web_agent.invoke(\n",
    "    query=query3\n",
    ")\n",
    "\n",
    "print(\"\\nMessages from run 3:\")\n",
    "messages = run3.get_final_state()[\"messages\"]\n",
    "print_messages(messages)\n"
   ]
  },
  {
   "cell_type": "markdown",
   "id": "f0a55081",
   "metadata": {},
   "source": [
    "### (Optional) Advanced"
   ]
  },
  {
   "cell_type": "code",
   "execution_count": null,
   "id": "eb83fbb1",
   "metadata": {},
   "outputs": [],
   "source": [
    "# TODO: Update your agent with long-term memory\n",
    "# TODO: Convert the agent to be a state machine, with the tools being pre-defined nodes"
   ]
  }
 ],
 "metadata": {
  "kernelspec": {
   "display_name": ".venv",
   "language": "python",
   "name": "python3"
  },
  "language_info": {
   "codemirror_mode": {
    "name": "ipython",
    "version": 3
   },
   "file_extension": ".py",
   "mimetype": "text/x-python",
   "name": "python",
   "nbconvert_exporter": "python",
   "pygments_lexer": "ipython3",
   "version": "3.11.9"
  }
 },
 "nbformat": 4,
 "nbformat_minor": 5
}
